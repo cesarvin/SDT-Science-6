{
 "cells": [
  {
   "cell_type": "markdown",
   "metadata": {},
   "source": [
    "# Laboratorio 6: Prediccion de infeccion por malware\n",
    "# Data Science\n",
    "## Integrantes:\n",
    "### - André Rodríguez 18332\n",
    "### - César Rodas 16776\n",
    "## Código:\n",
    "### Carga de datos\n",
    "Cargamos la libreria de carga de datos"
   ]
  },
  {
   "cell_type": "code",
   "execution_count": 14,
   "metadata": {},
   "outputs": [],
   "source": [
    "import sys\n",
    "import joblib\n",
    "sys.modules['sklearn.externals.joblib'] = joblib\n",
    "import pandas as pd\n",
    "from sklearn import metrics, model_selection, tree\n",
    "\n",
    "from flare.data_science.features import dga_classifier\n",
    "from flare.tools.umbrella import Umbrella"
   ]
  },
  {
   "cell_type": "code",
   "execution_count": 15,
   "metadata": {},
   "outputs": [],
   "source": [
    "# importar el modelo\n",
    "clf = joblib.load('Modelo_DGA_entrenado.pkl')"
   ]
  },
  {
   "cell_type": "code",
   "execution_count": null,
   "metadata": {},
   "outputs": [],
   "source": [
    "#df_original = pd.read_csv('data.csv')"
   ]
  },
  {
   "cell_type": "code",
   "execution_count": null,
   "metadata": {},
   "outputs": [],
   "source": [
    "import  numpy as np\n",
    "import  re\n",
    "\n",
    "def H_entropy (x):\n",
    "    # Entropia de Shannon\n",
    "    prob = [ float(x.count(c)) / len(x) for c in dict.fromkeys(list(x)) ] \n",
    "    H = - sum([ p * np.log2(p) for p in prob ]) \n",
    "    return H\n",
    "\n",
    "def posicionPrimerDigito( s ):\n",
    "    for i, c in enumerate(s):\n",
    "        if c.isdigit():\n",
    "            return i + 1\n",
    "    return 0\n",
    "\n",
    "def proporcionVocalesConsonantes (x):\n",
    "    x = x.lower()\n",
    "    patron_vocales = re.compile('([aeiou])')\n",
    "    patron_consonantes = re.compile('([b-df-hj-np-tv-z])')\n",
    "    vocales = re.findall(patron_vocales, x)\n",
    "    consonantes = re.findall(patron_consonantes, x)\n",
    "    try:\n",
    "        proporcion = len(vocales) / len(consonantes)\n",
    "    except: # Division por cero\n",
    "        proporcion = 0  \n",
    "    return proporcion"
   ]
  },
  {
   "cell_type": "code",
   "execution_count": null,
   "metadata": {},
   "outputs": [],
   "source": [
    "#df_original_sin_repetidos = df_original.drop_duplicates(subset = ['dns.rrname'])"
   ]
  },
  {
   "cell_type": "code",
   "execution_count": null,
   "metadata": {},
   "outputs": [],
   "source": [
    "#df_to_predict = pd.DataFrame()\n",
    "\n",
    "#df_to_predict['longitud'] = df_original_sin_repetidos['dns.rrname'].str.len()\n",
    "#df_to_predict['digitos'] = df_original_sin_repetidos['dns.rrname'].str.count('[0-9]')\n",
    "#df_to_predict['entropia'] = df_original_sin_repetidos['dns.rrname'].apply(H_entropy)\n",
    "#df_to_predict['proporcionVocalesConsonantes'] = df_original_sin_repetidos['dns.rrname'].apply(proporcionVocalesConsonantes)\n",
    "#df_to_predict['posicionPrimerDigito'] = df_original_sin_repetidos['dns.rrname'].apply(posicionPrimerDigito)"
   ]
  },
  {
   "cell_type": "code",
   "execution_count": null,
   "metadata": {},
   "outputs": [],
   "source": [
    "#df_to_predict.to_csv('data_dga.csv', index=False)"
   ]
  },
  {
   "cell_type": "code",
   "execution_count": 16,
   "metadata": {},
   "outputs": [],
   "source": [
    "#cargar el archivo para evaluar\n",
    "df = pd.read_csv('data_dga.csv')"
   ]
  },
  {
   "cell_type": "code",
   "execution_count": 17,
   "metadata": {},
   "outputs": [
    {
     "data": {
      "text/html": [
       "<div>\n",
       "<style scoped>\n",
       "    .dataframe tbody tr th:only-of-type {\n",
       "        vertical-align: middle;\n",
       "    }\n",
       "\n",
       "    .dataframe tbody tr th {\n",
       "        vertical-align: top;\n",
       "    }\n",
       "\n",
       "    .dataframe thead th {\n",
       "        text-align: right;\n",
       "    }\n",
       "</style>\n",
       "<table border=\"1\" class=\"dataframe\">\n",
       "  <thead>\n",
       "    <tr style=\"text-align: right;\">\n",
       "      <th></th>\n",
       "      <th>longitud</th>\n",
       "      <th>digitos</th>\n",
       "      <th>entropia</th>\n",
       "      <th>proporcionVocalesConsonantes</th>\n",
       "      <th>posicionPrimerDigito</th>\n",
       "    </tr>\n",
       "  </thead>\n",
       "  <tbody>\n",
       "    <tr>\n",
       "      <th>0</th>\n",
       "      <td>20</td>\n",
       "      <td>0</td>\n",
       "      <td>3.721928</td>\n",
       "      <td>0.636364</td>\n",
       "      <td>0</td>\n",
       "    </tr>\n",
       "    <tr>\n",
       "      <th>1</th>\n",
       "      <td>19</td>\n",
       "      <td>2</td>\n",
       "      <td>3.616349</td>\n",
       "      <td>0.363636</td>\n",
       "      <td>6</td>\n",
       "    </tr>\n",
       "    <tr>\n",
       "      <th>2</th>\n",
       "      <td>42</td>\n",
       "      <td>1</td>\n",
       "      <td>3.823500</td>\n",
       "      <td>0.833333</td>\n",
       "      <td>10</td>\n",
       "    </tr>\n",
       "    <tr>\n",
       "      <th>3</th>\n",
       "      <td>36</td>\n",
       "      <td>0</td>\n",
       "      <td>3.861052</td>\n",
       "      <td>0.600000</td>\n",
       "      <td>0</td>\n",
       "    </tr>\n",
       "    <tr>\n",
       "      <th>4</th>\n",
       "      <td>19</td>\n",
       "      <td>0</td>\n",
       "      <td>3.616349</td>\n",
       "      <td>0.545455</td>\n",
       "      <td>0</td>\n",
       "    </tr>\n",
       "  </tbody>\n",
       "</table>\n",
       "</div>"
      ],
      "text/plain": [
       "   longitud  digitos  entropia  proporcionVocalesConsonantes  \\\n",
       "0        20        0  3.721928                      0.636364   \n",
       "1        19        2  3.616349                      0.363636   \n",
       "2        42        1  3.823500                      0.833333   \n",
       "3        36        0  3.861052                      0.600000   \n",
       "4        19        0  3.616349                      0.545455   \n",
       "\n",
       "   posicionPrimerDigito  \n",
       "0                     0  \n",
       "1                     6  \n",
       "2                    10  \n",
       "3                     0  \n",
       "4                     0  "
      ]
     },
     "execution_count": 17,
     "metadata": {},
     "output_type": "execute_result"
    }
   ],
   "source": [
    "df.head(5)"
   ]
  },
  {
   "cell_type": "code",
   "execution_count": 18,
   "metadata": {},
   "outputs": [
    {
     "name": "stdout",
     "output_type": "stream",
     "text": [
      "<class 'pandas.core.frame.DataFrame'>\n",
      "RangeIndex: 177 entries, 0 to 176\n",
      "Data columns (total 5 columns):\n",
      " #   Column                        Non-Null Count  Dtype  \n",
      "---  ------                        --------------  -----  \n",
      " 0   longitud                      177 non-null    int64  \n",
      " 1   digitos                       177 non-null    int64  \n",
      " 2   entropia                      177 non-null    float64\n",
      " 3   proporcionVocalesConsonantes  177 non-null    float64\n",
      " 4   posicionPrimerDigito          177 non-null    int64  \n",
      "dtypes: float64(2), int64(3)\n",
      "memory usage: 7.0 KB\n"
     ]
    }
   ],
   "source": [
    "df.info()"
   ]
  },
  {
   "cell_type": "code",
   "execution_count": 19,
   "metadata": {},
   "outputs": [],
   "source": [
    "target_pred = clf.predict(df)"
   ]
  },
  {
   "cell_type": "code",
   "execution_count": 20,
   "metadata": {},
   "outputs": [],
   "source": [
    "predict = []\n",
    "\n",
    "for i in target_pred:\n",
    "    if i == 1:\n",
    "        predict.append(True)\n",
    "    else:\n",
    "        predict.append(False)"
   ]
  },
  {
   "cell_type": "code",
   "execution_count": 26,
   "metadata": {},
   "outputs": [],
   "source": [
    "df_original = pd.read_csv('data.csv')"
   ]
  },
  {
   "cell_type": "code",
   "execution_count": 27,
   "metadata": {},
   "outputs": [
    {
     "name": "stdout",
     "output_type": "stream",
     "text": [
      "<class 'pandas.core.frame.DataFrame'>\n",
      "RangeIndex: 2849 entries, 0 to 2848\n",
      "Data columns (total 15 columns):\n",
      " #   Column      Non-Null Count  Dtype  \n",
      "---  ------      --------------  -----  \n",
      " 0   timestamp   2849 non-null   object \n",
      " 1   flow_id     2849 non-null   float64\n",
      " 2   pcap_cnt    2849 non-null   float64\n",
      " 3   event_type  2849 non-null   object \n",
      " 4   vlan        2849 non-null   float64\n",
      " 5   src_ip      2849 non-null   object \n",
      " 6   src_port    2849 non-null   float64\n",
      " 7   dest_ip     2849 non-null   object \n",
      " 8   dest_port   2849 non-null   float64\n",
      " 9   proto       2849 non-null   object \n",
      " 10  dns.type    2849 non-null   object \n",
      " 11  dns.id      2849 non-null   float64\n",
      " 12  dns.rrname  2848 non-null   object \n",
      " 13  dns.rrtype  2849 non-null   object \n",
      " 14  tld         2848 non-null   object \n",
      "dtypes: float64(6), object(9)\n",
      "memory usage: 334.0+ KB\n"
     ]
    }
   ],
   "source": [
    "df_original.info(5)"
   ]
  },
  {
   "cell_type": "code",
   "execution_count": 28,
   "metadata": {},
   "outputs": [],
   "source": [
    "df_sin_repetidos = df_original.drop_duplicates(subset = ['dns.rrname'])"
   ]
  },
  {
   "cell_type": "code",
   "execution_count": 29,
   "metadata": {},
   "outputs": [
    {
     "data": {
      "text/plain": [
       "1                                dropbox.com\n",
       "2                                  aoltw.net\n",
       "4       safebrowsing.clients.google.com.home\n",
       "16                                google.com\n",
       "29                            stayonline.net\n",
       "                        ...                 \n",
       "1952                    ejfodfmfxlkgifuf.xyz\n",
       "2676                    192.168.21-28.0.home\n",
       "2804                         192.168.22.201:\n",
       "2845          192.168.22.201:.stayonline.net\n",
       "2847                                real.com\n",
       "Name: tld, Length: 62, dtype: object"
      ]
     },
     "execution_count": 29,
     "metadata": {},
     "output_type": "execute_result"
    }
   ],
   "source": [
    "df_sin_repetidos[predict]['tld']"
   ]
  }
 ],
 "metadata": {
  "interpreter": {
   "hash": "916dbcbb3f70747c44a77c7bcd40155683ae19c65e1c03b4aa3499c5328201f1"
  },
  "kernelspec": {
   "display_name": "Python 3.10.4 64-bit",
   "language": "python",
   "name": "python3"
  },
  "language_info": {
   "codemirror_mode": {
    "name": "ipython",
    "version": 3
   },
   "file_extension": ".py",
   "mimetype": "text/x-python",
   "name": "python",
   "nbconvert_exporter": "python",
   "pygments_lexer": "ipython3",
   "version": "3.10.4"
  },
  "orig_nbformat": 4
 },
 "nbformat": 4,
 "nbformat_minor": 2
}
