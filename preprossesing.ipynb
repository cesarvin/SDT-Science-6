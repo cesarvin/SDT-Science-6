{
 "cells": [
  {
   "cell_type": "markdown",
   "source": [
    "# Laboratorio 6: Prediccion de infeccion por malware\n",
    "# Preprocesamiento de datos\n",
    "## Integrantes:\n",
    "### - André Rodríguez 18332\n",
    "### - Cesar Rodas 16776\n",
    "## Código:\n",
    "### Carga de datos\n",
    "Cargamos la libreria de carga de datos"
   ],
   "metadata": {
    "collapsed": false,
    "pycharm": {
     "name": "#%% md\n"
    }
   }
  },
  {
   "cell_type": "code",
   "execution_count": 40,
   "outputs": [],
   "source": [
    "import pandas as pd\n",
    "import json"
   ],
   "metadata": {
    "collapsed": false,
    "pycharm": {
     "name": "#%%\n"
    }
   }
  },
  {
   "cell_type": "code",
   "execution_count": 41,
   "outputs": [],
   "source": [
    "json_list = []"
   ],
   "metadata": {
    "collapsed": false,
    "pycharm": {
     "name": "#%%\n"
    }
   }
  },
  {
   "cell_type": "code",
   "execution_count": 42,
   "outputs": [],
   "source": [
    "with open('large_eve.json') as f:\n",
    "    i = 0\n",
    "    for line in f:\n",
    "        json_list.append(json.loads(line))"
   ],
   "metadata": {
    "collapsed": false,
    "pycharm": {
     "name": "#%%\n"
    }
   }
  },
  {
   "cell_type": "code",
   "execution_count": 43,
   "outputs": [],
   "source": [
    "df = pd.json_normalize(json_list)"
   ],
   "metadata": {
    "collapsed": false,
    "pycharm": {
     "name": "#%%\n"
    }
   }
  },
  {
   "cell_type": "code",
   "execution_count": 44,
   "outputs": [],
   "source": [
    "df = df[df['event_type'] == 'dns']"
   ],
   "metadata": {
    "collapsed": false,
    "pycharm": {
     "name": "#%%\n"
    }
   }
  },
  {
   "cell_type": "code",
   "execution_count": 45,
   "outputs": [
    {
     "data": {
      "text/plain": "15749"
     },
     "execution_count": 45,
     "metadata": {},
     "output_type": "execute_result"
    }
   ],
   "source": [
    "len(df)"
   ],
   "metadata": {
    "collapsed": false,
    "pycharm": {
     "name": "#%%\n"
    }
   }
  },
  {
   "cell_type": "code",
   "execution_count": 46,
   "outputs": [
    {
     "data": {
      "text/plain": "                          timestamp       flow_id  pcap_cnt event_type   vlan  \\\n2   2017-07-22T17:33:16.661646-0500  1.327836e+15   22269.0        dns  110.0   \n38  2017-07-22T17:33:24.990320-0500  2.022925e+15   54352.0        dns  110.0   \n\n                                     src_ip  src_port  \\\n2   2001:0dbb:0c18:0011:0260:6eff:fe30:0863   59680.0   \n38  2001:0dbb:0c18:0011:0260:6eff:fe30:0863   38051.0   \n\n                                    dest_ip  dest_port proto  ...  \\\n2   2001:0500:0001:0000:0000:0000:803f:0235       53.0   UDP  ...   \n38  2001:0500:0003:0000:0000:0000:0000:0042       53.0   UDP  ...   \n\n   stats.flow_mgr.rows_busy  stats.flow_mgr.rows_maxlen  \\\n2                       NaN                         NaN   \n38                      NaN                         NaN   \n\n    stats.file_store.open_files  stats.dns.memuse stats.dns.memcap_state  \\\n2                           NaN               NaN                    NaN   \n38                          NaN               NaN                    NaN   \n\n   stats.dns.memcap_global  stats.http.memuse stats.http.memcap tcp.ecn  \\\n2                      NaN                NaN               NaN     NaN   \n38                     NaN                NaN               NaN     NaN   \n\n   tcp.cwr  \n2      NaN  \n38     NaN  \n\n[2 rows x 199 columns]",
      "text/html": "<div>\n<style scoped>\n    .dataframe tbody tr th:only-of-type {\n        vertical-align: middle;\n    }\n\n    .dataframe tbody tr th {\n        vertical-align: top;\n    }\n\n    .dataframe thead th {\n        text-align: right;\n    }\n</style>\n<table border=\"1\" class=\"dataframe\">\n  <thead>\n    <tr style=\"text-align: right;\">\n      <th></th>\n      <th>timestamp</th>\n      <th>flow_id</th>\n      <th>pcap_cnt</th>\n      <th>event_type</th>\n      <th>vlan</th>\n      <th>src_ip</th>\n      <th>src_port</th>\n      <th>dest_ip</th>\n      <th>dest_port</th>\n      <th>proto</th>\n      <th>...</th>\n      <th>stats.flow_mgr.rows_busy</th>\n      <th>stats.flow_mgr.rows_maxlen</th>\n      <th>stats.file_store.open_files</th>\n      <th>stats.dns.memuse</th>\n      <th>stats.dns.memcap_state</th>\n      <th>stats.dns.memcap_global</th>\n      <th>stats.http.memuse</th>\n      <th>stats.http.memcap</th>\n      <th>tcp.ecn</th>\n      <th>tcp.cwr</th>\n    </tr>\n  </thead>\n  <tbody>\n    <tr>\n      <th>2</th>\n      <td>2017-07-22T17:33:16.661646-0500</td>\n      <td>1.327836e+15</td>\n      <td>22269.0</td>\n      <td>dns</td>\n      <td>110.0</td>\n      <td>2001:0dbb:0c18:0011:0260:6eff:fe30:0863</td>\n      <td>59680.0</td>\n      <td>2001:0500:0001:0000:0000:0000:803f:0235</td>\n      <td>53.0</td>\n      <td>UDP</td>\n      <td>...</td>\n      <td>NaN</td>\n      <td>NaN</td>\n      <td>NaN</td>\n      <td>NaN</td>\n      <td>NaN</td>\n      <td>NaN</td>\n      <td>NaN</td>\n      <td>NaN</td>\n      <td>NaN</td>\n      <td>NaN</td>\n    </tr>\n    <tr>\n      <th>38</th>\n      <td>2017-07-22T17:33:24.990320-0500</td>\n      <td>2.022925e+15</td>\n      <td>54352.0</td>\n      <td>dns</td>\n      <td>110.0</td>\n      <td>2001:0dbb:0c18:0011:0260:6eff:fe30:0863</td>\n      <td>38051.0</td>\n      <td>2001:0500:0003:0000:0000:0000:0000:0042</td>\n      <td>53.0</td>\n      <td>UDP</td>\n      <td>...</td>\n      <td>NaN</td>\n      <td>NaN</td>\n      <td>NaN</td>\n      <td>NaN</td>\n      <td>NaN</td>\n      <td>NaN</td>\n      <td>NaN</td>\n      <td>NaN</td>\n      <td>NaN</td>\n      <td>NaN</td>\n    </tr>\n  </tbody>\n</table>\n<p>2 rows × 199 columns</p>\n</div>"
     },
     "execution_count": 46,
     "metadata": {},
     "output_type": "execute_result"
    }
   ],
   "source": [
    "df.head(2)"
   ],
   "metadata": {
    "collapsed": false,
    "pycharm": {
     "name": "#%%\n"
    }
   }
  },
  {
   "cell_type": "code",
   "execution_count": 47,
   "outputs": [],
   "source": [
    "df = df[df['dns.rrtype'] == 'A']"
   ],
   "metadata": {
    "collapsed": false,
    "pycharm": {
     "name": "#%%\n"
    }
   }
  },
  {
   "cell_type": "code",
   "execution_count": 48,
   "outputs": [
    {
     "data": {
      "text/plain": "                           timestamp       flow_id  pcap_cnt event_type  \\\n2    2017-07-22T17:33:16.661646-0500  1.327836e+15   22269.0        dns   \n38   2017-07-22T17:33:24.990320-0500  2.022925e+15   54352.0        dns   \n39   2017-07-22T17:33:27.379891-0500  5.785448e+14   54519.0        dns   \n43   2017-07-22T17:33:36.672785-0500  2.379195e+14   55496.0        dns   \n44   2017-07-22T17:33:38.537426-0500  2.167545e+15   55687.0        dns   \n48   2017-07-22T17:33:45.672579-0500  5.417455e+14   56307.0        dns   \n53   2017-07-22T17:33:26.875733-0500  1.936682e+15   54495.0        dns   \n56   2017-07-22T17:33:27.388030-0500  2.361672e+14   54524.0        dns   \n64   2017-07-22T17:33:27.407602-0500  7.704912e+14   54535.0        dns   \n70   2017-07-22T17:33:34.994444-0500  1.569458e+15   55269.0        dns   \n83   2017-07-22T17:34:35.067950-0500  2.175963e+15   59834.0        dns   \n94   2017-07-22T17:33:27.406254-0500  1.289731e+15   54533.0        dns   \n100  2017-07-22T17:33:27.378443-0500  8.625237e+14   54517.0        dns   \n103  2017-07-22T17:33:26.664622-0500  1.846801e+15   54476.0        dns   \n104  2017-07-22T17:33:27.389328-0500  7.429776e+14   54526.0        dns   \n107  2017-07-22T17:33:27.397218-0500  5.446188e+14   54529.0        dns   \n111  2017-07-22T17:33:38.536927-0500  1.902520e+15   55685.0        dns   \n133  2017-07-22T17:34:03.616631-0500  1.718592e+15   57618.0        dns   \n141  2017-07-22T17:33:54.997622-0500  1.418413e+15   57074.0        dns   \n143  2017-07-22T17:33:41.038093-0500  1.154006e+15   55932.0        dns   \n\n      vlan                                   src_ip  src_port  \\\n2    110.0  2001:0dbb:0c18:0011:0260:6eff:fe30:0863   59680.0   \n38   110.0  2001:0dbb:0c18:0011:0260:6eff:fe30:0863   38051.0   \n39   150.0                          192.168.205.170   31393.0   \n43   110.0  2001:0dbb:0c18:0011:0260:6eff:fe30:0863   41663.0   \n44   180.0                           192.168.198.62   35092.0   \n48   120.0                          192.168.202.172   55580.0   \n53   150.0                          192.168.205.188   46250.0   \n56   150.0                          192.168.205.170   57181.0   \n64   150.0                          192.168.205.170   15001.0   \n70   110.0  2001:0dbb:0c18:0011:0260:6eff:fe30:0863   19802.0   \n83   110.0  2001:0dbb:0c18:0011:0260:6eff:fe30:0863   59477.0   \n94   150.0                          192.168.205.170   38112.0   \n100  150.0                          192.168.205.170   48188.0   \n103  110.0  2001:0dbb:0c18:0011:0260:6eff:fe30:0863   21379.0   \n104  150.0                          192.168.205.170    9876.0   \n107  150.0                          192.168.205.170   58844.0   \n111  180.0                           192.168.198.62   51691.0   \n133  180.0                           192.168.198.62   44114.0   \n141  110.0  2001:0dbb:0c18:0011:0260:6eff:fe30:0863   51876.0   \n143  110.0                           192.168.201.66   59506.0   \n\n                                     dest_ip  dest_port proto  ...  \\\n2    2001:0500:0001:0000:0000:0000:803f:0235       53.0   UDP  ...   \n38   2001:0500:0003:0000:0000:0000:0000:0042       53.0   UDP  ...   \n39                             192.168.207.4       53.0   UDP  ...   \n43   2001:07fd:0000:0000:0000:0000:0000:0001       53.0   UDP  ...   \n44                             192.168.207.4       53.0   UDP  ...   \n48                             192.168.207.4       53.0   UDP  ...   \n53                             192.168.207.4       53.0   UDP  ...   \n56                             192.168.207.4       53.0   UDP  ...   \n64                             192.168.207.4       53.0   UDP  ...   \n70   2001:07fd:0000:0000:0000:0000:0000:0001       53.0   UDP  ...   \n83   2001:0dc3:0000:0000:0000:0000:0000:0035       53.0   UDP  ...   \n94                             192.168.207.4       53.0   UDP  ...   \n100                            192.168.207.4       53.0   UDP  ...   \n103  2001:0503:ba3e:0000:0000:0000:0002:0030       53.0   UDP  ...   \n104                            192.168.207.4       53.0   UDP  ...   \n107                            192.168.207.4       53.0   UDP  ...   \n111                            192.168.207.4       53.0   UDP  ...   \n133                            192.168.207.4       53.0   UDP  ...   \n141  2001:07fe:0000:0000:0000:0000:0000:0053       53.0   UDP  ...   \n143                            192.168.207.4       53.0   UDP  ...   \n\n    stats.flow_mgr.rows_busy  stats.flow_mgr.rows_maxlen  \\\n2                        NaN                         NaN   \n38                       NaN                         NaN   \n39                       NaN                         NaN   \n43                       NaN                         NaN   \n44                       NaN                         NaN   \n48                       NaN                         NaN   \n53                       NaN                         NaN   \n56                       NaN                         NaN   \n64                       NaN                         NaN   \n70                       NaN                         NaN   \n83                       NaN                         NaN   \n94                       NaN                         NaN   \n100                      NaN                         NaN   \n103                      NaN                         NaN   \n104                      NaN                         NaN   \n107                      NaN                         NaN   \n111                      NaN                         NaN   \n133                      NaN                         NaN   \n141                      NaN                         NaN   \n143                      NaN                         NaN   \n\n     stats.file_store.open_files  stats.dns.memuse stats.dns.memcap_state  \\\n2                            NaN               NaN                    NaN   \n38                           NaN               NaN                    NaN   \n39                           NaN               NaN                    NaN   \n43                           NaN               NaN                    NaN   \n44                           NaN               NaN                    NaN   \n48                           NaN               NaN                    NaN   \n53                           NaN               NaN                    NaN   \n56                           NaN               NaN                    NaN   \n64                           NaN               NaN                    NaN   \n70                           NaN               NaN                    NaN   \n83                           NaN               NaN                    NaN   \n94                           NaN               NaN                    NaN   \n100                          NaN               NaN                    NaN   \n103                          NaN               NaN                    NaN   \n104                          NaN               NaN                    NaN   \n107                          NaN               NaN                    NaN   \n111                          NaN               NaN                    NaN   \n133                          NaN               NaN                    NaN   \n141                          NaN               NaN                    NaN   \n143                          NaN               NaN                    NaN   \n\n    stats.dns.memcap_global  stats.http.memuse stats.http.memcap tcp.ecn  \\\n2                       NaN                NaN               NaN     NaN   \n38                      NaN                NaN               NaN     NaN   \n39                      NaN                NaN               NaN     NaN   \n43                      NaN                NaN               NaN     NaN   \n44                      NaN                NaN               NaN     NaN   \n48                      NaN                NaN               NaN     NaN   \n53                      NaN                NaN               NaN     NaN   \n56                      NaN                NaN               NaN     NaN   \n64                      NaN                NaN               NaN     NaN   \n70                      NaN                NaN               NaN     NaN   \n83                      NaN                NaN               NaN     NaN   \n94                      NaN                NaN               NaN     NaN   \n100                     NaN                NaN               NaN     NaN   \n103                     NaN                NaN               NaN     NaN   \n104                     NaN                NaN               NaN     NaN   \n107                     NaN                NaN               NaN     NaN   \n111                     NaN                NaN               NaN     NaN   \n133                     NaN                NaN               NaN     NaN   \n141                     NaN                NaN               NaN     NaN   \n143                     NaN                NaN               NaN     NaN   \n\n    tcp.cwr  \n2       NaN  \n38      NaN  \n39      NaN  \n43      NaN  \n44      NaN  \n48      NaN  \n53      NaN  \n56      NaN  \n64      NaN  \n70      NaN  \n83      NaN  \n94      NaN  \n100     NaN  \n103     NaN  \n104     NaN  \n107     NaN  \n111     NaN  \n133     NaN  \n141     NaN  \n143     NaN  \n\n[20 rows x 199 columns]",
      "text/html": "<div>\n<style scoped>\n    .dataframe tbody tr th:only-of-type {\n        vertical-align: middle;\n    }\n\n    .dataframe tbody tr th {\n        vertical-align: top;\n    }\n\n    .dataframe thead th {\n        text-align: right;\n    }\n</style>\n<table border=\"1\" class=\"dataframe\">\n  <thead>\n    <tr style=\"text-align: right;\">\n      <th></th>\n      <th>timestamp</th>\n      <th>flow_id</th>\n      <th>pcap_cnt</th>\n      <th>event_type</th>\n      <th>vlan</th>\n      <th>src_ip</th>\n      <th>src_port</th>\n      <th>dest_ip</th>\n      <th>dest_port</th>\n      <th>proto</th>\n      <th>...</th>\n      <th>stats.flow_mgr.rows_busy</th>\n      <th>stats.flow_mgr.rows_maxlen</th>\n      <th>stats.file_store.open_files</th>\n      <th>stats.dns.memuse</th>\n      <th>stats.dns.memcap_state</th>\n      <th>stats.dns.memcap_global</th>\n      <th>stats.http.memuse</th>\n      <th>stats.http.memcap</th>\n      <th>tcp.ecn</th>\n      <th>tcp.cwr</th>\n    </tr>\n  </thead>\n  <tbody>\n    <tr>\n      <th>2</th>\n      <td>2017-07-22T17:33:16.661646-0500</td>\n      <td>1.327836e+15</td>\n      <td>22269.0</td>\n      <td>dns</td>\n      <td>110.0</td>\n      <td>2001:0dbb:0c18:0011:0260:6eff:fe30:0863</td>\n      <td>59680.0</td>\n      <td>2001:0500:0001:0000:0000:0000:803f:0235</td>\n      <td>53.0</td>\n      <td>UDP</td>\n      <td>...</td>\n      <td>NaN</td>\n      <td>NaN</td>\n      <td>NaN</td>\n      <td>NaN</td>\n      <td>NaN</td>\n      <td>NaN</td>\n      <td>NaN</td>\n      <td>NaN</td>\n      <td>NaN</td>\n      <td>NaN</td>\n    </tr>\n    <tr>\n      <th>38</th>\n      <td>2017-07-22T17:33:24.990320-0500</td>\n      <td>2.022925e+15</td>\n      <td>54352.0</td>\n      <td>dns</td>\n      <td>110.0</td>\n      <td>2001:0dbb:0c18:0011:0260:6eff:fe30:0863</td>\n      <td>38051.0</td>\n      <td>2001:0500:0003:0000:0000:0000:0000:0042</td>\n      <td>53.0</td>\n      <td>UDP</td>\n      <td>...</td>\n      <td>NaN</td>\n      <td>NaN</td>\n      <td>NaN</td>\n      <td>NaN</td>\n      <td>NaN</td>\n      <td>NaN</td>\n      <td>NaN</td>\n      <td>NaN</td>\n      <td>NaN</td>\n      <td>NaN</td>\n    </tr>\n    <tr>\n      <th>39</th>\n      <td>2017-07-22T17:33:27.379891-0500</td>\n      <td>5.785448e+14</td>\n      <td>54519.0</td>\n      <td>dns</td>\n      <td>150.0</td>\n      <td>192.168.205.170</td>\n      <td>31393.0</td>\n      <td>192.168.207.4</td>\n      <td>53.0</td>\n      <td>UDP</td>\n      <td>...</td>\n      <td>NaN</td>\n      <td>NaN</td>\n      <td>NaN</td>\n      <td>NaN</td>\n      <td>NaN</td>\n      <td>NaN</td>\n      <td>NaN</td>\n      <td>NaN</td>\n      <td>NaN</td>\n      <td>NaN</td>\n    </tr>\n    <tr>\n      <th>43</th>\n      <td>2017-07-22T17:33:36.672785-0500</td>\n      <td>2.379195e+14</td>\n      <td>55496.0</td>\n      <td>dns</td>\n      <td>110.0</td>\n      <td>2001:0dbb:0c18:0011:0260:6eff:fe30:0863</td>\n      <td>41663.0</td>\n      <td>2001:07fd:0000:0000:0000:0000:0000:0001</td>\n      <td>53.0</td>\n      <td>UDP</td>\n      <td>...</td>\n      <td>NaN</td>\n      <td>NaN</td>\n      <td>NaN</td>\n      <td>NaN</td>\n      <td>NaN</td>\n      <td>NaN</td>\n      <td>NaN</td>\n      <td>NaN</td>\n      <td>NaN</td>\n      <td>NaN</td>\n    </tr>\n    <tr>\n      <th>44</th>\n      <td>2017-07-22T17:33:38.537426-0500</td>\n      <td>2.167545e+15</td>\n      <td>55687.0</td>\n      <td>dns</td>\n      <td>180.0</td>\n      <td>192.168.198.62</td>\n      <td>35092.0</td>\n      <td>192.168.207.4</td>\n      <td>53.0</td>\n      <td>UDP</td>\n      <td>...</td>\n      <td>NaN</td>\n      <td>NaN</td>\n      <td>NaN</td>\n      <td>NaN</td>\n      <td>NaN</td>\n      <td>NaN</td>\n      <td>NaN</td>\n      <td>NaN</td>\n      <td>NaN</td>\n      <td>NaN</td>\n    </tr>\n    <tr>\n      <th>48</th>\n      <td>2017-07-22T17:33:45.672579-0500</td>\n      <td>5.417455e+14</td>\n      <td>56307.0</td>\n      <td>dns</td>\n      <td>120.0</td>\n      <td>192.168.202.172</td>\n      <td>55580.0</td>\n      <td>192.168.207.4</td>\n      <td>53.0</td>\n      <td>UDP</td>\n      <td>...</td>\n      <td>NaN</td>\n      <td>NaN</td>\n      <td>NaN</td>\n      <td>NaN</td>\n      <td>NaN</td>\n      <td>NaN</td>\n      <td>NaN</td>\n      <td>NaN</td>\n      <td>NaN</td>\n      <td>NaN</td>\n    </tr>\n    <tr>\n      <th>53</th>\n      <td>2017-07-22T17:33:26.875733-0500</td>\n      <td>1.936682e+15</td>\n      <td>54495.0</td>\n      <td>dns</td>\n      <td>150.0</td>\n      <td>192.168.205.188</td>\n      <td>46250.0</td>\n      <td>192.168.207.4</td>\n      <td>53.0</td>\n      <td>UDP</td>\n      <td>...</td>\n      <td>NaN</td>\n      <td>NaN</td>\n      <td>NaN</td>\n      <td>NaN</td>\n      <td>NaN</td>\n      <td>NaN</td>\n      <td>NaN</td>\n      <td>NaN</td>\n      <td>NaN</td>\n      <td>NaN</td>\n    </tr>\n    <tr>\n      <th>56</th>\n      <td>2017-07-22T17:33:27.388030-0500</td>\n      <td>2.361672e+14</td>\n      <td>54524.0</td>\n      <td>dns</td>\n      <td>150.0</td>\n      <td>192.168.205.170</td>\n      <td>57181.0</td>\n      <td>192.168.207.4</td>\n      <td>53.0</td>\n      <td>UDP</td>\n      <td>...</td>\n      <td>NaN</td>\n      <td>NaN</td>\n      <td>NaN</td>\n      <td>NaN</td>\n      <td>NaN</td>\n      <td>NaN</td>\n      <td>NaN</td>\n      <td>NaN</td>\n      <td>NaN</td>\n      <td>NaN</td>\n    </tr>\n    <tr>\n      <th>64</th>\n      <td>2017-07-22T17:33:27.407602-0500</td>\n      <td>7.704912e+14</td>\n      <td>54535.0</td>\n      <td>dns</td>\n      <td>150.0</td>\n      <td>192.168.205.170</td>\n      <td>15001.0</td>\n      <td>192.168.207.4</td>\n      <td>53.0</td>\n      <td>UDP</td>\n      <td>...</td>\n      <td>NaN</td>\n      <td>NaN</td>\n      <td>NaN</td>\n      <td>NaN</td>\n      <td>NaN</td>\n      <td>NaN</td>\n      <td>NaN</td>\n      <td>NaN</td>\n      <td>NaN</td>\n      <td>NaN</td>\n    </tr>\n    <tr>\n      <th>70</th>\n      <td>2017-07-22T17:33:34.994444-0500</td>\n      <td>1.569458e+15</td>\n      <td>55269.0</td>\n      <td>dns</td>\n      <td>110.0</td>\n      <td>2001:0dbb:0c18:0011:0260:6eff:fe30:0863</td>\n      <td>19802.0</td>\n      <td>2001:07fd:0000:0000:0000:0000:0000:0001</td>\n      <td>53.0</td>\n      <td>UDP</td>\n      <td>...</td>\n      <td>NaN</td>\n      <td>NaN</td>\n      <td>NaN</td>\n      <td>NaN</td>\n      <td>NaN</td>\n      <td>NaN</td>\n      <td>NaN</td>\n      <td>NaN</td>\n      <td>NaN</td>\n      <td>NaN</td>\n    </tr>\n    <tr>\n      <th>83</th>\n      <td>2017-07-22T17:34:35.067950-0500</td>\n      <td>2.175963e+15</td>\n      <td>59834.0</td>\n      <td>dns</td>\n      <td>110.0</td>\n      <td>2001:0dbb:0c18:0011:0260:6eff:fe30:0863</td>\n      <td>59477.0</td>\n      <td>2001:0dc3:0000:0000:0000:0000:0000:0035</td>\n      <td>53.0</td>\n      <td>UDP</td>\n      <td>...</td>\n      <td>NaN</td>\n      <td>NaN</td>\n      <td>NaN</td>\n      <td>NaN</td>\n      <td>NaN</td>\n      <td>NaN</td>\n      <td>NaN</td>\n      <td>NaN</td>\n      <td>NaN</td>\n      <td>NaN</td>\n    </tr>\n    <tr>\n      <th>94</th>\n      <td>2017-07-22T17:33:27.406254-0500</td>\n      <td>1.289731e+15</td>\n      <td>54533.0</td>\n      <td>dns</td>\n      <td>150.0</td>\n      <td>192.168.205.170</td>\n      <td>38112.0</td>\n      <td>192.168.207.4</td>\n      <td>53.0</td>\n      <td>UDP</td>\n      <td>...</td>\n      <td>NaN</td>\n      <td>NaN</td>\n      <td>NaN</td>\n      <td>NaN</td>\n      <td>NaN</td>\n      <td>NaN</td>\n      <td>NaN</td>\n      <td>NaN</td>\n      <td>NaN</td>\n      <td>NaN</td>\n    </tr>\n    <tr>\n      <th>100</th>\n      <td>2017-07-22T17:33:27.378443-0500</td>\n      <td>8.625237e+14</td>\n      <td>54517.0</td>\n      <td>dns</td>\n      <td>150.0</td>\n      <td>192.168.205.170</td>\n      <td>48188.0</td>\n      <td>192.168.207.4</td>\n      <td>53.0</td>\n      <td>UDP</td>\n      <td>...</td>\n      <td>NaN</td>\n      <td>NaN</td>\n      <td>NaN</td>\n      <td>NaN</td>\n      <td>NaN</td>\n      <td>NaN</td>\n      <td>NaN</td>\n      <td>NaN</td>\n      <td>NaN</td>\n      <td>NaN</td>\n    </tr>\n    <tr>\n      <th>103</th>\n      <td>2017-07-22T17:33:26.664622-0500</td>\n      <td>1.846801e+15</td>\n      <td>54476.0</td>\n      <td>dns</td>\n      <td>110.0</td>\n      <td>2001:0dbb:0c18:0011:0260:6eff:fe30:0863</td>\n      <td>21379.0</td>\n      <td>2001:0503:ba3e:0000:0000:0000:0002:0030</td>\n      <td>53.0</td>\n      <td>UDP</td>\n      <td>...</td>\n      <td>NaN</td>\n      <td>NaN</td>\n      <td>NaN</td>\n      <td>NaN</td>\n      <td>NaN</td>\n      <td>NaN</td>\n      <td>NaN</td>\n      <td>NaN</td>\n      <td>NaN</td>\n      <td>NaN</td>\n    </tr>\n    <tr>\n      <th>104</th>\n      <td>2017-07-22T17:33:27.389328-0500</td>\n      <td>7.429776e+14</td>\n      <td>54526.0</td>\n      <td>dns</td>\n      <td>150.0</td>\n      <td>192.168.205.170</td>\n      <td>9876.0</td>\n      <td>192.168.207.4</td>\n      <td>53.0</td>\n      <td>UDP</td>\n      <td>...</td>\n      <td>NaN</td>\n      <td>NaN</td>\n      <td>NaN</td>\n      <td>NaN</td>\n      <td>NaN</td>\n      <td>NaN</td>\n      <td>NaN</td>\n      <td>NaN</td>\n      <td>NaN</td>\n      <td>NaN</td>\n    </tr>\n    <tr>\n      <th>107</th>\n      <td>2017-07-22T17:33:27.397218-0500</td>\n      <td>5.446188e+14</td>\n      <td>54529.0</td>\n      <td>dns</td>\n      <td>150.0</td>\n      <td>192.168.205.170</td>\n      <td>58844.0</td>\n      <td>192.168.207.4</td>\n      <td>53.0</td>\n      <td>UDP</td>\n      <td>...</td>\n      <td>NaN</td>\n      <td>NaN</td>\n      <td>NaN</td>\n      <td>NaN</td>\n      <td>NaN</td>\n      <td>NaN</td>\n      <td>NaN</td>\n      <td>NaN</td>\n      <td>NaN</td>\n      <td>NaN</td>\n    </tr>\n    <tr>\n      <th>111</th>\n      <td>2017-07-22T17:33:38.536927-0500</td>\n      <td>1.902520e+15</td>\n      <td>55685.0</td>\n      <td>dns</td>\n      <td>180.0</td>\n      <td>192.168.198.62</td>\n      <td>51691.0</td>\n      <td>192.168.207.4</td>\n      <td>53.0</td>\n      <td>UDP</td>\n      <td>...</td>\n      <td>NaN</td>\n      <td>NaN</td>\n      <td>NaN</td>\n      <td>NaN</td>\n      <td>NaN</td>\n      <td>NaN</td>\n      <td>NaN</td>\n      <td>NaN</td>\n      <td>NaN</td>\n      <td>NaN</td>\n    </tr>\n    <tr>\n      <th>133</th>\n      <td>2017-07-22T17:34:03.616631-0500</td>\n      <td>1.718592e+15</td>\n      <td>57618.0</td>\n      <td>dns</td>\n      <td>180.0</td>\n      <td>192.168.198.62</td>\n      <td>44114.0</td>\n      <td>192.168.207.4</td>\n      <td>53.0</td>\n      <td>UDP</td>\n      <td>...</td>\n      <td>NaN</td>\n      <td>NaN</td>\n      <td>NaN</td>\n      <td>NaN</td>\n      <td>NaN</td>\n      <td>NaN</td>\n      <td>NaN</td>\n      <td>NaN</td>\n      <td>NaN</td>\n      <td>NaN</td>\n    </tr>\n    <tr>\n      <th>141</th>\n      <td>2017-07-22T17:33:54.997622-0500</td>\n      <td>1.418413e+15</td>\n      <td>57074.0</td>\n      <td>dns</td>\n      <td>110.0</td>\n      <td>2001:0dbb:0c18:0011:0260:6eff:fe30:0863</td>\n      <td>51876.0</td>\n      <td>2001:07fe:0000:0000:0000:0000:0000:0053</td>\n      <td>53.0</td>\n      <td>UDP</td>\n      <td>...</td>\n      <td>NaN</td>\n      <td>NaN</td>\n      <td>NaN</td>\n      <td>NaN</td>\n      <td>NaN</td>\n      <td>NaN</td>\n      <td>NaN</td>\n      <td>NaN</td>\n      <td>NaN</td>\n      <td>NaN</td>\n    </tr>\n    <tr>\n      <th>143</th>\n      <td>2017-07-22T17:33:41.038093-0500</td>\n      <td>1.154006e+15</td>\n      <td>55932.0</td>\n      <td>dns</td>\n      <td>110.0</td>\n      <td>192.168.201.66</td>\n      <td>59506.0</td>\n      <td>192.168.207.4</td>\n      <td>53.0</td>\n      <td>UDP</td>\n      <td>...</td>\n      <td>NaN</td>\n      <td>NaN</td>\n      <td>NaN</td>\n      <td>NaN</td>\n      <td>NaN</td>\n      <td>NaN</td>\n      <td>NaN</td>\n      <td>NaN</td>\n      <td>NaN</td>\n      <td>NaN</td>\n    </tr>\n  </tbody>\n</table>\n<p>20 rows × 199 columns</p>\n</div>"
     },
     "execution_count": 48,
     "metadata": {},
     "output_type": "execute_result"
    }
   ],
   "source": [
    "df.head(20)"
   ],
   "metadata": {
    "collapsed": false,
    "pycharm": {
     "name": "#%%\n"
    }
   }
  },
  {
   "cell_type": "code",
   "execution_count": 49,
   "outputs": [],
   "source": [
    "from flare.data_science.features import domain_tld_extract"
   ],
   "metadata": {
    "collapsed": false,
    "pycharm": {
     "name": "#%%\n"
    }
   }
  },
  {
   "cell_type": "code",
   "execution_count": 50,
   "outputs": [],
   "source": [
    "df['tld'] = df['dns.rrname'].apply(domain_tld_extract)"
   ],
   "metadata": {
    "collapsed": false,
    "pycharm": {
     "name": "#%%\n"
    }
   }
  },
  {
   "cell_type": "code",
   "execution_count": 51,
   "outputs": [
    {
     "data": {
      "text/plain": "2                          wunderground.com\n38                              dropbox.com\n39                                aoltw.net\n43                         wunderground.com\n44     safebrowsing.clients.google.com.home\n48                              mozilla.com\n53                           metasploit.com\n56                                  aol.com\n64                                aoltw.net\n70                              dropbox.com\n83                              dropbox.com\n94                                  aol.com\n100                                 aol.com\n103                        wunderground.com\n104                               aoltw.net\n107                                 aol.com\n111                              google.com\n133                               wpad.home\n141                             dropbox.com\n143                             mozilla.com\nName: tld, dtype: object"
     },
     "execution_count": 51,
     "metadata": {},
     "output_type": "execute_result"
    }
   ],
   "source": [
    "df['tld'].head(20)"
   ],
   "metadata": {
    "collapsed": false,
    "pycharm": {
     "name": "#%%\n"
    }
   }
  },
  {
   "cell_type": "code",
   "execution_count": 52,
   "outputs": [
    {
     "data": {
      "text/plain": "timestamp               0\nflow_id                 0\npcap_cnt                0\nevent_type              0\nvlan                    0\n                     ... \nstats.http.memuse    2849\nstats.http.memcap    2849\ntcp.ecn              2849\ntcp.cwr              2849\ntld                     0\nLength: 200, dtype: int64"
     },
     "execution_count": 52,
     "metadata": {},
     "output_type": "execute_result"
    }
   ],
   "source": [
    "df.isna().sum()"
   ],
   "metadata": {
    "collapsed": false,
    "pycharm": {
     "name": "#%%\n"
    }
   }
  },
  {
   "cell_type": "code",
   "execution_count": 53,
   "outputs": [],
   "source": [
    "df.dropna(axis=1, inplace=True)"
   ],
   "metadata": {
    "collapsed": false,
    "pycharm": {
     "name": "#%%\n"
    }
   }
  },
  {
   "cell_type": "code",
   "execution_count": 54,
   "outputs": [
    {
     "data": {
      "text/plain": "                           timestamp       flow_id  pcap_cnt event_type  \\\n2    2017-07-22T17:33:16.661646-0500  1.327836e+15   22269.0        dns   \n38   2017-07-22T17:33:24.990320-0500  2.022925e+15   54352.0        dns   \n39   2017-07-22T17:33:27.379891-0500  5.785448e+14   54519.0        dns   \n43   2017-07-22T17:33:36.672785-0500  2.379195e+14   55496.0        dns   \n44   2017-07-22T17:33:38.537426-0500  2.167545e+15   55687.0        dns   \n48   2017-07-22T17:33:45.672579-0500  5.417455e+14   56307.0        dns   \n53   2017-07-22T17:33:26.875733-0500  1.936682e+15   54495.0        dns   \n56   2017-07-22T17:33:27.388030-0500  2.361672e+14   54524.0        dns   \n64   2017-07-22T17:33:27.407602-0500  7.704912e+14   54535.0        dns   \n70   2017-07-22T17:33:34.994444-0500  1.569458e+15   55269.0        dns   \n83   2017-07-22T17:34:35.067950-0500  2.175963e+15   59834.0        dns   \n94   2017-07-22T17:33:27.406254-0500  1.289731e+15   54533.0        dns   \n100  2017-07-22T17:33:27.378443-0500  8.625237e+14   54517.0        dns   \n103  2017-07-22T17:33:26.664622-0500  1.846801e+15   54476.0        dns   \n104  2017-07-22T17:33:27.389328-0500  7.429776e+14   54526.0        dns   \n107  2017-07-22T17:33:27.397218-0500  5.446188e+14   54529.0        dns   \n111  2017-07-22T17:33:38.536927-0500  1.902520e+15   55685.0        dns   \n133  2017-07-22T17:34:03.616631-0500  1.718592e+15   57618.0        dns   \n141  2017-07-22T17:33:54.997622-0500  1.418413e+15   57074.0        dns   \n143  2017-07-22T17:33:41.038093-0500  1.154006e+15   55932.0        dns   \n\n      vlan                                   src_ip  src_port  \\\n2    110.0  2001:0dbb:0c18:0011:0260:6eff:fe30:0863   59680.0   \n38   110.0  2001:0dbb:0c18:0011:0260:6eff:fe30:0863   38051.0   \n39   150.0                          192.168.205.170   31393.0   \n43   110.0  2001:0dbb:0c18:0011:0260:6eff:fe30:0863   41663.0   \n44   180.0                           192.168.198.62   35092.0   \n48   120.0                          192.168.202.172   55580.0   \n53   150.0                          192.168.205.188   46250.0   \n56   150.0                          192.168.205.170   57181.0   \n64   150.0                          192.168.205.170   15001.0   \n70   110.0  2001:0dbb:0c18:0011:0260:6eff:fe30:0863   19802.0   \n83   110.0  2001:0dbb:0c18:0011:0260:6eff:fe30:0863   59477.0   \n94   150.0                          192.168.205.170   38112.0   \n100  150.0                          192.168.205.170   48188.0   \n103  110.0  2001:0dbb:0c18:0011:0260:6eff:fe30:0863   21379.0   \n104  150.0                          192.168.205.170    9876.0   \n107  150.0                          192.168.205.170   58844.0   \n111  180.0                           192.168.198.62   51691.0   \n133  180.0                           192.168.198.62   44114.0   \n141  110.0  2001:0dbb:0c18:0011:0260:6eff:fe30:0863   51876.0   \n143  110.0                           192.168.201.66   59506.0   \n\n                                     dest_ip  dest_port proto dns.type  \\\n2    2001:0500:0001:0000:0000:0000:803f:0235       53.0   UDP    query   \n38   2001:0500:0003:0000:0000:0000:0000:0042       53.0   UDP    query   \n39                             192.168.207.4       53.0   UDP    query   \n43   2001:07fd:0000:0000:0000:0000:0000:0001       53.0   UDP    query   \n44                             192.168.207.4       53.0   UDP    query   \n48                             192.168.207.4       53.0   UDP    query   \n53                             192.168.207.4       53.0   UDP    query   \n56                             192.168.207.4       53.0   UDP    query   \n64                             192.168.207.4       53.0   UDP    query   \n70   2001:07fd:0000:0000:0000:0000:0000:0001       53.0   UDP    query   \n83   2001:0dc3:0000:0000:0000:0000:0000:0035       53.0   UDP    query   \n94                             192.168.207.4       53.0   UDP    query   \n100                            192.168.207.4       53.0   UDP    query   \n103  2001:0503:ba3e:0000:0000:0000:0002:0030       53.0   UDP    query   \n104                            192.168.207.4       53.0   UDP    query   \n107                            192.168.207.4       53.0   UDP    query   \n111                            192.168.207.4       53.0   UDP    query   \n133                            192.168.207.4       53.0   UDP    query   \n141  2001:07fe:0000:0000:0000:0000:0000:0053       53.0   UDP    query   \n143                            192.168.207.4       53.0   UDP    query   \n\n      dns.id                                   dns.rrname dns.rrtype  \\\n2    15529.0                         api.wunderground.com          A   \n38   58278.0                          stork79.dropbox.com          A   \n39   54724.0   hpca-tier2.office.aol.com.ad.aol.aoltw.net          A   \n43   45082.0                         api.wunderground.com          A   \n44    7425.0         safebrowsing.clients.google.com.home          A   \n48   12854.0                          fxfeeds.mozilla.com          A   \n53   11087.0                           www.metasploit.com          A   \n56   38715.0                   aolmtcmxm03.office.aol.com          A   \n64   38706.0  aolmtcmxm02.office.aol.com.ad.aol.aoltw.net          A   \n70   33134.0                          stork79.dropbox.com          A   \n83   25646.0                          stork79.dropbox.com          A   \n94   23609.0                   aolmtcmxm02.office.aol.com          A   \n100  58554.0                    hpca-tier2.office.aol.com          A   \n103  52311.0                         api.wunderground.com          A   \n104  22415.0  aolmtcmxm03.office.aol.com.ad.aol.aoltw.net          A   \n107   5753.0                   aolmtcmxm04.office.aol.com          A   \n111  27069.0              safebrowsing.clients.google.com          A   \n133  55738.0                                    wpad.home          A   \n141  35974.0                          stork79.dropbox.com          A   \n143  45190.0                          fxfeeds.mozilla.com          A   \n\n                                      tld  \n2                        wunderground.com  \n38                            dropbox.com  \n39                              aoltw.net  \n43                       wunderground.com  \n44   safebrowsing.clients.google.com.home  \n48                            mozilla.com  \n53                         metasploit.com  \n56                                aol.com  \n64                              aoltw.net  \n70                            dropbox.com  \n83                            dropbox.com  \n94                                aol.com  \n100                               aol.com  \n103                      wunderground.com  \n104                             aoltw.net  \n107                               aol.com  \n111                            google.com  \n133                             wpad.home  \n141                           dropbox.com  \n143                           mozilla.com  ",
      "text/html": "<div>\n<style scoped>\n    .dataframe tbody tr th:only-of-type {\n        vertical-align: middle;\n    }\n\n    .dataframe tbody tr th {\n        vertical-align: top;\n    }\n\n    .dataframe thead th {\n        text-align: right;\n    }\n</style>\n<table border=\"1\" class=\"dataframe\">\n  <thead>\n    <tr style=\"text-align: right;\">\n      <th></th>\n      <th>timestamp</th>\n      <th>flow_id</th>\n      <th>pcap_cnt</th>\n      <th>event_type</th>\n      <th>vlan</th>\n      <th>src_ip</th>\n      <th>src_port</th>\n      <th>dest_ip</th>\n      <th>dest_port</th>\n      <th>proto</th>\n      <th>dns.type</th>\n      <th>dns.id</th>\n      <th>dns.rrname</th>\n      <th>dns.rrtype</th>\n      <th>tld</th>\n    </tr>\n  </thead>\n  <tbody>\n    <tr>\n      <th>2</th>\n      <td>2017-07-22T17:33:16.661646-0500</td>\n      <td>1.327836e+15</td>\n      <td>22269.0</td>\n      <td>dns</td>\n      <td>110.0</td>\n      <td>2001:0dbb:0c18:0011:0260:6eff:fe30:0863</td>\n      <td>59680.0</td>\n      <td>2001:0500:0001:0000:0000:0000:803f:0235</td>\n      <td>53.0</td>\n      <td>UDP</td>\n      <td>query</td>\n      <td>15529.0</td>\n      <td>api.wunderground.com</td>\n      <td>A</td>\n      <td>wunderground.com</td>\n    </tr>\n    <tr>\n      <th>38</th>\n      <td>2017-07-22T17:33:24.990320-0500</td>\n      <td>2.022925e+15</td>\n      <td>54352.0</td>\n      <td>dns</td>\n      <td>110.0</td>\n      <td>2001:0dbb:0c18:0011:0260:6eff:fe30:0863</td>\n      <td>38051.0</td>\n      <td>2001:0500:0003:0000:0000:0000:0000:0042</td>\n      <td>53.0</td>\n      <td>UDP</td>\n      <td>query</td>\n      <td>58278.0</td>\n      <td>stork79.dropbox.com</td>\n      <td>A</td>\n      <td>dropbox.com</td>\n    </tr>\n    <tr>\n      <th>39</th>\n      <td>2017-07-22T17:33:27.379891-0500</td>\n      <td>5.785448e+14</td>\n      <td>54519.0</td>\n      <td>dns</td>\n      <td>150.0</td>\n      <td>192.168.205.170</td>\n      <td>31393.0</td>\n      <td>192.168.207.4</td>\n      <td>53.0</td>\n      <td>UDP</td>\n      <td>query</td>\n      <td>54724.0</td>\n      <td>hpca-tier2.office.aol.com.ad.aol.aoltw.net</td>\n      <td>A</td>\n      <td>aoltw.net</td>\n    </tr>\n    <tr>\n      <th>43</th>\n      <td>2017-07-22T17:33:36.672785-0500</td>\n      <td>2.379195e+14</td>\n      <td>55496.0</td>\n      <td>dns</td>\n      <td>110.0</td>\n      <td>2001:0dbb:0c18:0011:0260:6eff:fe30:0863</td>\n      <td>41663.0</td>\n      <td>2001:07fd:0000:0000:0000:0000:0000:0001</td>\n      <td>53.0</td>\n      <td>UDP</td>\n      <td>query</td>\n      <td>45082.0</td>\n      <td>api.wunderground.com</td>\n      <td>A</td>\n      <td>wunderground.com</td>\n    </tr>\n    <tr>\n      <th>44</th>\n      <td>2017-07-22T17:33:38.537426-0500</td>\n      <td>2.167545e+15</td>\n      <td>55687.0</td>\n      <td>dns</td>\n      <td>180.0</td>\n      <td>192.168.198.62</td>\n      <td>35092.0</td>\n      <td>192.168.207.4</td>\n      <td>53.0</td>\n      <td>UDP</td>\n      <td>query</td>\n      <td>7425.0</td>\n      <td>safebrowsing.clients.google.com.home</td>\n      <td>A</td>\n      <td>safebrowsing.clients.google.com.home</td>\n    </tr>\n    <tr>\n      <th>48</th>\n      <td>2017-07-22T17:33:45.672579-0500</td>\n      <td>5.417455e+14</td>\n      <td>56307.0</td>\n      <td>dns</td>\n      <td>120.0</td>\n      <td>192.168.202.172</td>\n      <td>55580.0</td>\n      <td>192.168.207.4</td>\n      <td>53.0</td>\n      <td>UDP</td>\n      <td>query</td>\n      <td>12854.0</td>\n      <td>fxfeeds.mozilla.com</td>\n      <td>A</td>\n      <td>mozilla.com</td>\n    </tr>\n    <tr>\n      <th>53</th>\n      <td>2017-07-22T17:33:26.875733-0500</td>\n      <td>1.936682e+15</td>\n      <td>54495.0</td>\n      <td>dns</td>\n      <td>150.0</td>\n      <td>192.168.205.188</td>\n      <td>46250.0</td>\n      <td>192.168.207.4</td>\n      <td>53.0</td>\n      <td>UDP</td>\n      <td>query</td>\n      <td>11087.0</td>\n      <td>www.metasploit.com</td>\n      <td>A</td>\n      <td>metasploit.com</td>\n    </tr>\n    <tr>\n      <th>56</th>\n      <td>2017-07-22T17:33:27.388030-0500</td>\n      <td>2.361672e+14</td>\n      <td>54524.0</td>\n      <td>dns</td>\n      <td>150.0</td>\n      <td>192.168.205.170</td>\n      <td>57181.0</td>\n      <td>192.168.207.4</td>\n      <td>53.0</td>\n      <td>UDP</td>\n      <td>query</td>\n      <td>38715.0</td>\n      <td>aolmtcmxm03.office.aol.com</td>\n      <td>A</td>\n      <td>aol.com</td>\n    </tr>\n    <tr>\n      <th>64</th>\n      <td>2017-07-22T17:33:27.407602-0500</td>\n      <td>7.704912e+14</td>\n      <td>54535.0</td>\n      <td>dns</td>\n      <td>150.0</td>\n      <td>192.168.205.170</td>\n      <td>15001.0</td>\n      <td>192.168.207.4</td>\n      <td>53.0</td>\n      <td>UDP</td>\n      <td>query</td>\n      <td>38706.0</td>\n      <td>aolmtcmxm02.office.aol.com.ad.aol.aoltw.net</td>\n      <td>A</td>\n      <td>aoltw.net</td>\n    </tr>\n    <tr>\n      <th>70</th>\n      <td>2017-07-22T17:33:34.994444-0500</td>\n      <td>1.569458e+15</td>\n      <td>55269.0</td>\n      <td>dns</td>\n      <td>110.0</td>\n      <td>2001:0dbb:0c18:0011:0260:6eff:fe30:0863</td>\n      <td>19802.0</td>\n      <td>2001:07fd:0000:0000:0000:0000:0000:0001</td>\n      <td>53.0</td>\n      <td>UDP</td>\n      <td>query</td>\n      <td>33134.0</td>\n      <td>stork79.dropbox.com</td>\n      <td>A</td>\n      <td>dropbox.com</td>\n    </tr>\n    <tr>\n      <th>83</th>\n      <td>2017-07-22T17:34:35.067950-0500</td>\n      <td>2.175963e+15</td>\n      <td>59834.0</td>\n      <td>dns</td>\n      <td>110.0</td>\n      <td>2001:0dbb:0c18:0011:0260:6eff:fe30:0863</td>\n      <td>59477.0</td>\n      <td>2001:0dc3:0000:0000:0000:0000:0000:0035</td>\n      <td>53.0</td>\n      <td>UDP</td>\n      <td>query</td>\n      <td>25646.0</td>\n      <td>stork79.dropbox.com</td>\n      <td>A</td>\n      <td>dropbox.com</td>\n    </tr>\n    <tr>\n      <th>94</th>\n      <td>2017-07-22T17:33:27.406254-0500</td>\n      <td>1.289731e+15</td>\n      <td>54533.0</td>\n      <td>dns</td>\n      <td>150.0</td>\n      <td>192.168.205.170</td>\n      <td>38112.0</td>\n      <td>192.168.207.4</td>\n      <td>53.0</td>\n      <td>UDP</td>\n      <td>query</td>\n      <td>23609.0</td>\n      <td>aolmtcmxm02.office.aol.com</td>\n      <td>A</td>\n      <td>aol.com</td>\n    </tr>\n    <tr>\n      <th>100</th>\n      <td>2017-07-22T17:33:27.378443-0500</td>\n      <td>8.625237e+14</td>\n      <td>54517.0</td>\n      <td>dns</td>\n      <td>150.0</td>\n      <td>192.168.205.170</td>\n      <td>48188.0</td>\n      <td>192.168.207.4</td>\n      <td>53.0</td>\n      <td>UDP</td>\n      <td>query</td>\n      <td>58554.0</td>\n      <td>hpca-tier2.office.aol.com</td>\n      <td>A</td>\n      <td>aol.com</td>\n    </tr>\n    <tr>\n      <th>103</th>\n      <td>2017-07-22T17:33:26.664622-0500</td>\n      <td>1.846801e+15</td>\n      <td>54476.0</td>\n      <td>dns</td>\n      <td>110.0</td>\n      <td>2001:0dbb:0c18:0011:0260:6eff:fe30:0863</td>\n      <td>21379.0</td>\n      <td>2001:0503:ba3e:0000:0000:0000:0002:0030</td>\n      <td>53.0</td>\n      <td>UDP</td>\n      <td>query</td>\n      <td>52311.0</td>\n      <td>api.wunderground.com</td>\n      <td>A</td>\n      <td>wunderground.com</td>\n    </tr>\n    <tr>\n      <th>104</th>\n      <td>2017-07-22T17:33:27.389328-0500</td>\n      <td>7.429776e+14</td>\n      <td>54526.0</td>\n      <td>dns</td>\n      <td>150.0</td>\n      <td>192.168.205.170</td>\n      <td>9876.0</td>\n      <td>192.168.207.4</td>\n      <td>53.0</td>\n      <td>UDP</td>\n      <td>query</td>\n      <td>22415.0</td>\n      <td>aolmtcmxm03.office.aol.com.ad.aol.aoltw.net</td>\n      <td>A</td>\n      <td>aoltw.net</td>\n    </tr>\n    <tr>\n      <th>107</th>\n      <td>2017-07-22T17:33:27.397218-0500</td>\n      <td>5.446188e+14</td>\n      <td>54529.0</td>\n      <td>dns</td>\n      <td>150.0</td>\n      <td>192.168.205.170</td>\n      <td>58844.0</td>\n      <td>192.168.207.4</td>\n      <td>53.0</td>\n      <td>UDP</td>\n      <td>query</td>\n      <td>5753.0</td>\n      <td>aolmtcmxm04.office.aol.com</td>\n      <td>A</td>\n      <td>aol.com</td>\n    </tr>\n    <tr>\n      <th>111</th>\n      <td>2017-07-22T17:33:38.536927-0500</td>\n      <td>1.902520e+15</td>\n      <td>55685.0</td>\n      <td>dns</td>\n      <td>180.0</td>\n      <td>192.168.198.62</td>\n      <td>51691.0</td>\n      <td>192.168.207.4</td>\n      <td>53.0</td>\n      <td>UDP</td>\n      <td>query</td>\n      <td>27069.0</td>\n      <td>safebrowsing.clients.google.com</td>\n      <td>A</td>\n      <td>google.com</td>\n    </tr>\n    <tr>\n      <th>133</th>\n      <td>2017-07-22T17:34:03.616631-0500</td>\n      <td>1.718592e+15</td>\n      <td>57618.0</td>\n      <td>dns</td>\n      <td>180.0</td>\n      <td>192.168.198.62</td>\n      <td>44114.0</td>\n      <td>192.168.207.4</td>\n      <td>53.0</td>\n      <td>UDP</td>\n      <td>query</td>\n      <td>55738.0</td>\n      <td>wpad.home</td>\n      <td>A</td>\n      <td>wpad.home</td>\n    </tr>\n    <tr>\n      <th>141</th>\n      <td>2017-07-22T17:33:54.997622-0500</td>\n      <td>1.418413e+15</td>\n      <td>57074.0</td>\n      <td>dns</td>\n      <td>110.0</td>\n      <td>2001:0dbb:0c18:0011:0260:6eff:fe30:0863</td>\n      <td>51876.0</td>\n      <td>2001:07fe:0000:0000:0000:0000:0000:0053</td>\n      <td>53.0</td>\n      <td>UDP</td>\n      <td>query</td>\n      <td>35974.0</td>\n      <td>stork79.dropbox.com</td>\n      <td>A</td>\n      <td>dropbox.com</td>\n    </tr>\n    <tr>\n      <th>143</th>\n      <td>2017-07-22T17:33:41.038093-0500</td>\n      <td>1.154006e+15</td>\n      <td>55932.0</td>\n      <td>dns</td>\n      <td>110.0</td>\n      <td>192.168.201.66</td>\n      <td>59506.0</td>\n      <td>192.168.207.4</td>\n      <td>53.0</td>\n      <td>UDP</td>\n      <td>query</td>\n      <td>45190.0</td>\n      <td>fxfeeds.mozilla.com</td>\n      <td>A</td>\n      <td>mozilla.com</td>\n    </tr>\n  </tbody>\n</table>\n</div>"
     },
     "execution_count": 54,
     "metadata": {},
     "output_type": "execute_result"
    }
   ],
   "source": [
    "df.head(20)"
   ],
   "metadata": {
    "collapsed": false,
    "pycharm": {
     "name": "#%%\n"
    }
   }
  },
  {
   "cell_type": "code",
   "execution_count": 55,
   "outputs": [],
   "source": [
    "df.to_csv('data.csv', index=False)"
   ],
   "metadata": {
    "collapsed": false,
    "pycharm": {
     "name": "#%%\n"
    }
   }
  },
  {
   "cell_type": "markdown",
   "source": [
    "### Segundo dataset\n",
    "Cargamos el segundo dataset proporcionado"
   ],
   "metadata": {
    "collapsed": false,
    "pycharm": {
     "name": "#%% md\n"
    }
   }
  },
  {
   "cell_type": "code",
   "execution_count": 56,
   "outputs": [],
   "source": [
    "df = pd.read_csv('dga_data_small.csv')"
   ],
   "metadata": {
    "collapsed": false,
    "pycharm": {
     "name": "#%%\n"
    }
   }
  },
  {
   "cell_type": "code",
   "execution_count": 57,
   "outputs": [
    {
     "data": {
      "text/plain": "   isDGA                      domain                            host  \\\n0    dga               tyopcrkqgxcfm             tyopcrkqgxcfm.co.uk   \n1    dga  72j5rn1l9mzleo6203v1ogenfl  72j5rn1l9mzleo6203v1ogenfl.org   \n2    dga                    thenrest                    thenrest.net   \n3    dga  15ihbm71utcnfa8dk1mmgoobl9  15ihbm71utcnfa8dk1mmgoobl9.org   \n4    dga    x1d6ou7e7kofk60ayhq74x7e    x1d6ou7e7kofk60ayhq74x7e.net   \n5    dga                nvptudwjfcmv                 nvptudwjfcmv.ru   \n6    dga                     dtvbafg                      dtvbafg.nf   \n7    dga    doqlkpjszrcacin3d7j7k931    doqlkpjszrcacin3d7j7k931.net   \n8    dga              tacygbtrbuytir            tacygbtrbuytir.co.uk   \n9    dga                ogpbfninqpxa                 ogpbfninqpxa.ru   \n10   dga               pkllwwkklkgbs                pkllwwkklkgbs.ru   \n11   dga               ogwpkevwsdhlm                ogwpkevwsdhlm.ru   \n12   dga             kllpyohlrmedmxy              kllpyohlrmedmxy.ru   \n13   dga              rkptqwwluipqhm               rkptqwwluipqhm.ru   \n14   dga             fgvpimdffyanxhh              fgvpimdffyanxhh.ru   \n15   dga               tubphtrdyyhed                tubphtrdyyhed.ir   \n16   dga               rsjhcuwsvqhqa                rsjhcuwsvqhqa.ru   \n17   dga                ydgghhwyuqsy                 ydgghhwyuqsy.ru   \n18   dga  1f7ewbe1agxr7dwegr4s9tnozw  1f7ewbe1agxr7dwegr4s9tnozw.biz   \n19   dga  1ll2hfm1dc3ry3mwd93be2pa69  1ll2hfm1dc3ry3mwd93be2pa69.org   \n\n        subclass  \n0   cryptolocker  \n1    gameoverdga  \n2        nivdort  \n3    gameoverdga  \n4    gameoverdga  \n5   cryptolocker  \n6         necurs  \n7         newgoz  \n8   cryptolocker  \n9   cryptolocker  \n10  cryptolocker  \n11  cryptolocker  \n12  cryptolocker  \n13  cryptolocker  \n14  cryptolocker  \n15        necurs  \n16  cryptolocker  \n17  cryptolocker  \n18        newgoz  \n19        newgoz  ",
      "text/html": "<div>\n<style scoped>\n    .dataframe tbody tr th:only-of-type {\n        vertical-align: middle;\n    }\n\n    .dataframe tbody tr th {\n        vertical-align: top;\n    }\n\n    .dataframe thead th {\n        text-align: right;\n    }\n</style>\n<table border=\"1\" class=\"dataframe\">\n  <thead>\n    <tr style=\"text-align: right;\">\n      <th></th>\n      <th>isDGA</th>\n      <th>domain</th>\n      <th>host</th>\n      <th>subclass</th>\n    </tr>\n  </thead>\n  <tbody>\n    <tr>\n      <th>0</th>\n      <td>dga</td>\n      <td>tyopcrkqgxcfm</td>\n      <td>tyopcrkqgxcfm.co.uk</td>\n      <td>cryptolocker</td>\n    </tr>\n    <tr>\n      <th>1</th>\n      <td>dga</td>\n      <td>72j5rn1l9mzleo6203v1ogenfl</td>\n      <td>72j5rn1l9mzleo6203v1ogenfl.org</td>\n      <td>gameoverdga</td>\n    </tr>\n    <tr>\n      <th>2</th>\n      <td>dga</td>\n      <td>thenrest</td>\n      <td>thenrest.net</td>\n      <td>nivdort</td>\n    </tr>\n    <tr>\n      <th>3</th>\n      <td>dga</td>\n      <td>15ihbm71utcnfa8dk1mmgoobl9</td>\n      <td>15ihbm71utcnfa8dk1mmgoobl9.org</td>\n      <td>gameoverdga</td>\n    </tr>\n    <tr>\n      <th>4</th>\n      <td>dga</td>\n      <td>x1d6ou7e7kofk60ayhq74x7e</td>\n      <td>x1d6ou7e7kofk60ayhq74x7e.net</td>\n      <td>gameoverdga</td>\n    </tr>\n    <tr>\n      <th>5</th>\n      <td>dga</td>\n      <td>nvptudwjfcmv</td>\n      <td>nvptudwjfcmv.ru</td>\n      <td>cryptolocker</td>\n    </tr>\n    <tr>\n      <th>6</th>\n      <td>dga</td>\n      <td>dtvbafg</td>\n      <td>dtvbafg.nf</td>\n      <td>necurs</td>\n    </tr>\n    <tr>\n      <th>7</th>\n      <td>dga</td>\n      <td>doqlkpjszrcacin3d7j7k931</td>\n      <td>doqlkpjszrcacin3d7j7k931.net</td>\n      <td>newgoz</td>\n    </tr>\n    <tr>\n      <th>8</th>\n      <td>dga</td>\n      <td>tacygbtrbuytir</td>\n      <td>tacygbtrbuytir.co.uk</td>\n      <td>cryptolocker</td>\n    </tr>\n    <tr>\n      <th>9</th>\n      <td>dga</td>\n      <td>ogpbfninqpxa</td>\n      <td>ogpbfninqpxa.ru</td>\n      <td>cryptolocker</td>\n    </tr>\n    <tr>\n      <th>10</th>\n      <td>dga</td>\n      <td>pkllwwkklkgbs</td>\n      <td>pkllwwkklkgbs.ru</td>\n      <td>cryptolocker</td>\n    </tr>\n    <tr>\n      <th>11</th>\n      <td>dga</td>\n      <td>ogwpkevwsdhlm</td>\n      <td>ogwpkevwsdhlm.ru</td>\n      <td>cryptolocker</td>\n    </tr>\n    <tr>\n      <th>12</th>\n      <td>dga</td>\n      <td>kllpyohlrmedmxy</td>\n      <td>kllpyohlrmedmxy.ru</td>\n      <td>cryptolocker</td>\n    </tr>\n    <tr>\n      <th>13</th>\n      <td>dga</td>\n      <td>rkptqwwluipqhm</td>\n      <td>rkptqwwluipqhm.ru</td>\n      <td>cryptolocker</td>\n    </tr>\n    <tr>\n      <th>14</th>\n      <td>dga</td>\n      <td>fgvpimdffyanxhh</td>\n      <td>fgvpimdffyanxhh.ru</td>\n      <td>cryptolocker</td>\n    </tr>\n    <tr>\n      <th>15</th>\n      <td>dga</td>\n      <td>tubphtrdyyhed</td>\n      <td>tubphtrdyyhed.ir</td>\n      <td>necurs</td>\n    </tr>\n    <tr>\n      <th>16</th>\n      <td>dga</td>\n      <td>rsjhcuwsvqhqa</td>\n      <td>rsjhcuwsvqhqa.ru</td>\n      <td>cryptolocker</td>\n    </tr>\n    <tr>\n      <th>17</th>\n      <td>dga</td>\n      <td>ydgghhwyuqsy</td>\n      <td>ydgghhwyuqsy.ru</td>\n      <td>cryptolocker</td>\n    </tr>\n    <tr>\n      <th>18</th>\n      <td>dga</td>\n      <td>1f7ewbe1agxr7dwegr4s9tnozw</td>\n      <td>1f7ewbe1agxr7dwegr4s9tnozw.biz</td>\n      <td>newgoz</td>\n    </tr>\n    <tr>\n      <th>19</th>\n      <td>dga</td>\n      <td>1ll2hfm1dc3ry3mwd93be2pa69</td>\n      <td>1ll2hfm1dc3ry3mwd93be2pa69.org</td>\n      <td>newgoz</td>\n    </tr>\n  </tbody>\n</table>\n</div>"
     },
     "execution_count": 57,
     "metadata": {},
     "output_type": "execute_result"
    }
   ],
   "source": [
    "df.head(20)"
   ],
   "metadata": {
    "collapsed": false,
    "pycharm": {
     "name": "#%%\n"
    }
   }
  },
  {
   "cell_type": "code",
   "execution_count": 58,
   "outputs": [
    {
     "data": {
      "text/plain": "2000"
     },
     "execution_count": 58,
     "metadata": {},
     "output_type": "execute_result"
    }
   ],
   "source": [
    "len(df)"
   ],
   "metadata": {
    "collapsed": false,
    "pycharm": {
     "name": "#%%\n"
    }
   }
  },
  {
   "cell_type": "markdown",
   "source": [
    "Extraemos el top level domain"
   ],
   "metadata": {
    "collapsed": false,
    "pycharm": {
     "name": "#%% md\n"
    }
   }
  },
  {
   "cell_type": "code",
   "execution_count": 59,
   "outputs": [],
   "source": [
    "df['tld'] = df['host'].apply(lambda x: x[x.find('.')+1:])"
   ],
   "metadata": {
    "collapsed": false,
    "pycharm": {
     "name": "#%%\n"
    }
   }
  },
  {
   "cell_type": "code",
   "execution_count": 60,
   "outputs": [
    {
     "data": {
      "text/plain": "0     co.uk\n1       org\n2       net\n3       org\n4       net\n5        ru\n6        nf\n7       net\n8     co.uk\n9        ru\n10       ru\n11       ru\n12       ru\n13       ru\n14       ru\n15       ir\n16       ru\n17       ru\n18      biz\n19      org\nName: tld, dtype: object"
     },
     "execution_count": 60,
     "metadata": {},
     "output_type": "execute_result"
    }
   ],
   "source": [
    "df['tld'].head(20)"
   ],
   "metadata": {
    "collapsed": false,
    "pycharm": {
     "name": "#%%\n"
    }
   }
  },
  {
   "cell_type": "code",
   "execution_count": 61,
   "outputs": [],
   "source": [
    "df = df.groupby('tld').filter(lambda x: len(x) > 10)"
   ],
   "metadata": {
    "collapsed": false,
    "pycharm": {
     "name": "#%%\n"
    }
   }
  },
  {
   "cell_type": "code",
   "execution_count": 62,
   "outputs": [],
   "source": [
    "import re"
   ],
   "metadata": {
    "collapsed": false,
    "pycharm": {
     "name": "#%%\n"
    }
   }
  },
  {
   "cell_type": "code",
   "execution_count": 63,
   "outputs": [],
   "source": [
    "df['letter_count'] = df['domain'].apply(lambda x: len(re.sub('\\d+', '', x)))"
   ],
   "metadata": {
    "collapsed": false,
    "pycharm": {
     "name": "#%%\n"
    }
   }
  },
  {
   "cell_type": "code",
   "execution_count": 64,
   "outputs": [],
   "source": [
    "df['digit_count'] = df['domain'].apply(lambda x: len(x) - len(re.sub('\\d+', '', x)))"
   ],
   "metadata": {
    "collapsed": false,
    "pycharm": {
     "name": "#%%\n"
    }
   }
  },
  {
   "cell_type": "code",
   "execution_count": 65,
   "outputs": [],
   "source": [
    "df.drop(columns=['domain', 'host'], inplace=True)"
   ],
   "metadata": {
    "collapsed": false,
    "pycharm": {
     "name": "#%%\n"
    }
   }
  },
  {
   "cell_type": "code",
   "execution_count": 66,
   "outputs": [],
   "source": [
    "from sklearn.preprocessing import MinMaxScaler"
   ],
   "metadata": {
    "collapsed": false,
    "pycharm": {
     "name": "#%%\n"
    }
   }
  },
  {
   "cell_type": "code",
   "execution_count": 67,
   "outputs": [],
   "source": [
    "scaler = MinMaxScaler()"
   ],
   "metadata": {
    "collapsed": false,
    "pycharm": {
     "name": "#%%\n"
    }
   }
  },
  {
   "cell_type": "code",
   "execution_count": 68,
   "outputs": [],
   "source": [
    "df[['letter_count', 'digit_count']] = scaler.fit_transform(df[['letter_count', 'digit_count']])"
   ],
   "metadata": {
    "collapsed": false,
    "pycharm": {
     "name": "#%%\n"
    }
   }
  },
  {
   "cell_type": "code",
   "execution_count": 69,
   "outputs": [
    {
     "data": {
      "text/plain": "   isDGA      subclass    tld  letter_count  digit_count\n0    dga  cryptolocker  co.uk       0.40625     0.000000\n1    dga   gameoverdga    org       0.50000     0.370370\n2    dga       nivdort    net       0.25000     0.000000\n3    dga   gameoverdga    org       0.59375     0.259259\n4    dga   gameoverdga    net       0.46875     0.333333\n5    dga  cryptolocker     ru       0.37500     0.000000\n7    dga        newgoz    net       0.56250     0.222222\n8    dga  cryptolocker  co.uk       0.43750     0.000000\n9    dga  cryptolocker     ru       0.37500     0.000000\n10   dga  cryptolocker     ru       0.40625     0.000000\n11   dga  cryptolocker     ru       0.40625     0.000000\n12   dga  cryptolocker     ru       0.46875     0.000000\n13   dga  cryptolocker     ru       0.43750     0.000000\n14   dga  cryptolocker     ru       0.46875     0.000000\n15   dga        necurs     ir       0.40625     0.000000\n16   dga  cryptolocker     ru       0.40625     0.000000\n17   dga  cryptolocker     ru       0.37500     0.000000\n18   dga        newgoz    biz       0.62500     0.222222\n19   dga        newgoz    org       0.50000     0.370370\n20   dga           goz     ru       0.78125     0.000000",
      "text/html": "<div>\n<style scoped>\n    .dataframe tbody tr th:only-of-type {\n        vertical-align: middle;\n    }\n\n    .dataframe tbody tr th {\n        vertical-align: top;\n    }\n\n    .dataframe thead th {\n        text-align: right;\n    }\n</style>\n<table border=\"1\" class=\"dataframe\">\n  <thead>\n    <tr style=\"text-align: right;\">\n      <th></th>\n      <th>isDGA</th>\n      <th>subclass</th>\n      <th>tld</th>\n      <th>letter_count</th>\n      <th>digit_count</th>\n    </tr>\n  </thead>\n  <tbody>\n    <tr>\n      <th>0</th>\n      <td>dga</td>\n      <td>cryptolocker</td>\n      <td>co.uk</td>\n      <td>0.40625</td>\n      <td>0.000000</td>\n    </tr>\n    <tr>\n      <th>1</th>\n      <td>dga</td>\n      <td>gameoverdga</td>\n      <td>org</td>\n      <td>0.50000</td>\n      <td>0.370370</td>\n    </tr>\n    <tr>\n      <th>2</th>\n      <td>dga</td>\n      <td>nivdort</td>\n      <td>net</td>\n      <td>0.25000</td>\n      <td>0.000000</td>\n    </tr>\n    <tr>\n      <th>3</th>\n      <td>dga</td>\n      <td>gameoverdga</td>\n      <td>org</td>\n      <td>0.59375</td>\n      <td>0.259259</td>\n    </tr>\n    <tr>\n      <th>4</th>\n      <td>dga</td>\n      <td>gameoverdga</td>\n      <td>net</td>\n      <td>0.46875</td>\n      <td>0.333333</td>\n    </tr>\n    <tr>\n      <th>5</th>\n      <td>dga</td>\n      <td>cryptolocker</td>\n      <td>ru</td>\n      <td>0.37500</td>\n      <td>0.000000</td>\n    </tr>\n    <tr>\n      <th>7</th>\n      <td>dga</td>\n      <td>newgoz</td>\n      <td>net</td>\n      <td>0.56250</td>\n      <td>0.222222</td>\n    </tr>\n    <tr>\n      <th>8</th>\n      <td>dga</td>\n      <td>cryptolocker</td>\n      <td>co.uk</td>\n      <td>0.43750</td>\n      <td>0.000000</td>\n    </tr>\n    <tr>\n      <th>9</th>\n      <td>dga</td>\n      <td>cryptolocker</td>\n      <td>ru</td>\n      <td>0.37500</td>\n      <td>0.000000</td>\n    </tr>\n    <tr>\n      <th>10</th>\n      <td>dga</td>\n      <td>cryptolocker</td>\n      <td>ru</td>\n      <td>0.40625</td>\n      <td>0.000000</td>\n    </tr>\n    <tr>\n      <th>11</th>\n      <td>dga</td>\n      <td>cryptolocker</td>\n      <td>ru</td>\n      <td>0.40625</td>\n      <td>0.000000</td>\n    </tr>\n    <tr>\n      <th>12</th>\n      <td>dga</td>\n      <td>cryptolocker</td>\n      <td>ru</td>\n      <td>0.46875</td>\n      <td>0.000000</td>\n    </tr>\n    <tr>\n      <th>13</th>\n      <td>dga</td>\n      <td>cryptolocker</td>\n      <td>ru</td>\n      <td>0.43750</td>\n      <td>0.000000</td>\n    </tr>\n    <tr>\n      <th>14</th>\n      <td>dga</td>\n      <td>cryptolocker</td>\n      <td>ru</td>\n      <td>0.46875</td>\n      <td>0.000000</td>\n    </tr>\n    <tr>\n      <th>15</th>\n      <td>dga</td>\n      <td>necurs</td>\n      <td>ir</td>\n      <td>0.40625</td>\n      <td>0.000000</td>\n    </tr>\n    <tr>\n      <th>16</th>\n      <td>dga</td>\n      <td>cryptolocker</td>\n      <td>ru</td>\n      <td>0.40625</td>\n      <td>0.000000</td>\n    </tr>\n    <tr>\n      <th>17</th>\n      <td>dga</td>\n      <td>cryptolocker</td>\n      <td>ru</td>\n      <td>0.37500</td>\n      <td>0.000000</td>\n    </tr>\n    <tr>\n      <th>18</th>\n      <td>dga</td>\n      <td>newgoz</td>\n      <td>biz</td>\n      <td>0.62500</td>\n      <td>0.222222</td>\n    </tr>\n    <tr>\n      <th>19</th>\n      <td>dga</td>\n      <td>newgoz</td>\n      <td>org</td>\n      <td>0.50000</td>\n      <td>0.370370</td>\n    </tr>\n    <tr>\n      <th>20</th>\n      <td>dga</td>\n      <td>goz</td>\n      <td>ru</td>\n      <td>0.78125</td>\n      <td>0.000000</td>\n    </tr>\n  </tbody>\n</table>\n</div>"
     },
     "execution_count": 69,
     "metadata": {},
     "output_type": "execute_result"
    }
   ],
   "source": [
    "df.head(20)"
   ],
   "metadata": {
    "collapsed": false,
    "pycharm": {
     "name": "#%%\n"
    }
   }
  },
  {
   "cell_type": "code",
   "execution_count": 70,
   "outputs": [],
   "source": [
    "df = pd.concat([df.drop(['tld'], axis=1), pd.get_dummies(df['tld'])], axis=1)"
   ],
   "metadata": {
    "collapsed": false,
    "pycharm": {
     "name": "#%%\n"
    }
   }
  },
  {
   "cell_type": "code",
   "execution_count": 71,
   "outputs": [],
   "source": [
    "df = pd.concat([df.drop(['subclass'], axis=1), pd.get_dummies(df['subclass'])], axis=1)"
   ],
   "metadata": {
    "collapsed": false,
    "pycharm": {
     "name": "#%%\n"
    }
   }
  },
  {
   "cell_type": "code",
   "execution_count": 74,
   "outputs": [],
   "source": [
    "df['isDGA'] = df['isDGA'].apply(lambda x: 1 if x == 'dga' else 0)"
   ],
   "metadata": {
    "collapsed": false,
    "pycharm": {
     "name": "#%%\n"
    }
   }
  },
  {
   "cell_type": "code",
   "execution_count": 75,
   "outputs": [
    {
     "data": {
      "text/plain": "    isDGA  letter_count  digit_count  biz  co.uk  com  com.br  de  info  ir  \\\n0       1       0.40625     0.000000    0      1    0       0   0     0   0   \n1       1       0.50000     0.370370    0      0    0       0   0     0   0   \n2       1       0.25000     0.000000    0      0    0       0   0     0   0   \n3       1       0.59375     0.259259    0      0    0       0   0     0   0   \n4       1       0.46875     0.333333    0      0    0       0   0     0   0   \n5       1       0.37500     0.000000    0      0    0       0   0     0   0   \n7       1       0.56250     0.222222    0      0    0       0   0     0   0   \n8       1       0.43750     0.000000    0      1    0       0   0     0   0   \n9       1       0.37500     0.000000    0      0    0       0   0     0   0   \n10      1       0.40625     0.000000    0      0    0       0   0     0   0   \n11      1       0.40625     0.000000    0      0    0       0   0     0   0   \n12      1       0.46875     0.000000    0      0    0       0   0     0   0   \n13      1       0.43750     0.000000    0      0    0       0   0     0   0   \n14      1       0.46875     0.000000    0      0    0       0   0     0   0   \n15      1       0.40625     0.000000    0      0    0       0   0     0   1   \n16      1       0.40625     0.000000    0      0    0       0   0     0   0   \n17      1       0.37500     0.000000    0      0    0       0   0     0   0   \n18      1       0.62500     0.222222    1      0    0       0   0     0   0   \n19      1       0.50000     0.370370    0      0    0       0   0     0   0   \n20      1       0.78125     0.000000    0      0    0       0   0     0   0   \n\n    ...  ru  alexa  bamital  cryptolocker  gameoverdga  goz  legit  necurs  \\\n0   ...   0      0        0             1            0    0      0       0   \n1   ...   0      0        0             0            1    0      0       0   \n2   ...   0      0        0             0            0    0      0       0   \n3   ...   0      0        0             0            1    0      0       0   \n4   ...   0      0        0             0            1    0      0       0   \n5   ...   1      0        0             1            0    0      0       0   \n7   ...   0      0        0             0            0    0      0       0   \n8   ...   0      0        0             1            0    0      0       0   \n9   ...   1      0        0             1            0    0      0       0   \n10  ...   1      0        0             1            0    0      0       0   \n11  ...   1      0        0             1            0    0      0       0   \n12  ...   1      0        0             1            0    0      0       0   \n13  ...   1      0        0             1            0    0      0       0   \n14  ...   1      0        0             1            0    0      0       0   \n15  ...   0      0        0             0            0    0      0       1   \n16  ...   1      0        0             1            0    0      0       0   \n17  ...   1      0        0             1            0    0      0       0   \n18  ...   0      0        0             0            0    0      0       0   \n19  ...   0      0        0             0            0    0      0       0   \n20  ...   1      0        0             0            0    1      0       0   \n\n    newgoz  nivdort  \n0        0        0  \n1        0        0  \n2        0        1  \n3        0        0  \n4        0        0  \n5        0        0  \n7        1        0  \n8        0        0  \n9        0        0  \n10       0        0  \n11       0        0  \n12       0        0  \n13       0        0  \n14       0        0  \n15       0        0  \n16       0        0  \n17       0        0  \n18       1        0  \n19       1        0  \n20       0        0  \n\n[20 rows x 23 columns]",
      "text/html": "<div>\n<style scoped>\n    .dataframe tbody tr th:only-of-type {\n        vertical-align: middle;\n    }\n\n    .dataframe tbody tr th {\n        vertical-align: top;\n    }\n\n    .dataframe thead th {\n        text-align: right;\n    }\n</style>\n<table border=\"1\" class=\"dataframe\">\n  <thead>\n    <tr style=\"text-align: right;\">\n      <th></th>\n      <th>isDGA</th>\n      <th>letter_count</th>\n      <th>digit_count</th>\n      <th>biz</th>\n      <th>co.uk</th>\n      <th>com</th>\n      <th>com.br</th>\n      <th>de</th>\n      <th>info</th>\n      <th>ir</th>\n      <th>...</th>\n      <th>ru</th>\n      <th>alexa</th>\n      <th>bamital</th>\n      <th>cryptolocker</th>\n      <th>gameoverdga</th>\n      <th>goz</th>\n      <th>legit</th>\n      <th>necurs</th>\n      <th>newgoz</th>\n      <th>nivdort</th>\n    </tr>\n  </thead>\n  <tbody>\n    <tr>\n      <th>0</th>\n      <td>1</td>\n      <td>0.40625</td>\n      <td>0.000000</td>\n      <td>0</td>\n      <td>1</td>\n      <td>0</td>\n      <td>0</td>\n      <td>0</td>\n      <td>0</td>\n      <td>0</td>\n      <td>...</td>\n      <td>0</td>\n      <td>0</td>\n      <td>0</td>\n      <td>1</td>\n      <td>0</td>\n      <td>0</td>\n      <td>0</td>\n      <td>0</td>\n      <td>0</td>\n      <td>0</td>\n    </tr>\n    <tr>\n      <th>1</th>\n      <td>1</td>\n      <td>0.50000</td>\n      <td>0.370370</td>\n      <td>0</td>\n      <td>0</td>\n      <td>0</td>\n      <td>0</td>\n      <td>0</td>\n      <td>0</td>\n      <td>0</td>\n      <td>...</td>\n      <td>0</td>\n      <td>0</td>\n      <td>0</td>\n      <td>0</td>\n      <td>1</td>\n      <td>0</td>\n      <td>0</td>\n      <td>0</td>\n      <td>0</td>\n      <td>0</td>\n    </tr>\n    <tr>\n      <th>2</th>\n      <td>1</td>\n      <td>0.25000</td>\n      <td>0.000000</td>\n      <td>0</td>\n      <td>0</td>\n      <td>0</td>\n      <td>0</td>\n      <td>0</td>\n      <td>0</td>\n      <td>0</td>\n      <td>...</td>\n      <td>0</td>\n      <td>0</td>\n      <td>0</td>\n      <td>0</td>\n      <td>0</td>\n      <td>0</td>\n      <td>0</td>\n      <td>0</td>\n      <td>0</td>\n      <td>1</td>\n    </tr>\n    <tr>\n      <th>3</th>\n      <td>1</td>\n      <td>0.59375</td>\n      <td>0.259259</td>\n      <td>0</td>\n      <td>0</td>\n      <td>0</td>\n      <td>0</td>\n      <td>0</td>\n      <td>0</td>\n      <td>0</td>\n      <td>...</td>\n      <td>0</td>\n      <td>0</td>\n      <td>0</td>\n      <td>0</td>\n      <td>1</td>\n      <td>0</td>\n      <td>0</td>\n      <td>0</td>\n      <td>0</td>\n      <td>0</td>\n    </tr>\n    <tr>\n      <th>4</th>\n      <td>1</td>\n      <td>0.46875</td>\n      <td>0.333333</td>\n      <td>0</td>\n      <td>0</td>\n      <td>0</td>\n      <td>0</td>\n      <td>0</td>\n      <td>0</td>\n      <td>0</td>\n      <td>...</td>\n      <td>0</td>\n      <td>0</td>\n      <td>0</td>\n      <td>0</td>\n      <td>1</td>\n      <td>0</td>\n      <td>0</td>\n      <td>0</td>\n      <td>0</td>\n      <td>0</td>\n    </tr>\n    <tr>\n      <th>5</th>\n      <td>1</td>\n      <td>0.37500</td>\n      <td>0.000000</td>\n      <td>0</td>\n      <td>0</td>\n      <td>0</td>\n      <td>0</td>\n      <td>0</td>\n      <td>0</td>\n      <td>0</td>\n      <td>...</td>\n      <td>1</td>\n      <td>0</td>\n      <td>0</td>\n      <td>1</td>\n      <td>0</td>\n      <td>0</td>\n      <td>0</td>\n      <td>0</td>\n      <td>0</td>\n      <td>0</td>\n    </tr>\n    <tr>\n      <th>7</th>\n      <td>1</td>\n      <td>0.56250</td>\n      <td>0.222222</td>\n      <td>0</td>\n      <td>0</td>\n      <td>0</td>\n      <td>0</td>\n      <td>0</td>\n      <td>0</td>\n      <td>0</td>\n      <td>...</td>\n      <td>0</td>\n      <td>0</td>\n      <td>0</td>\n      <td>0</td>\n      <td>0</td>\n      <td>0</td>\n      <td>0</td>\n      <td>0</td>\n      <td>1</td>\n      <td>0</td>\n    </tr>\n    <tr>\n      <th>8</th>\n      <td>1</td>\n      <td>0.43750</td>\n      <td>0.000000</td>\n      <td>0</td>\n      <td>1</td>\n      <td>0</td>\n      <td>0</td>\n      <td>0</td>\n      <td>0</td>\n      <td>0</td>\n      <td>...</td>\n      <td>0</td>\n      <td>0</td>\n      <td>0</td>\n      <td>1</td>\n      <td>0</td>\n      <td>0</td>\n      <td>0</td>\n      <td>0</td>\n      <td>0</td>\n      <td>0</td>\n    </tr>\n    <tr>\n      <th>9</th>\n      <td>1</td>\n      <td>0.37500</td>\n      <td>0.000000</td>\n      <td>0</td>\n      <td>0</td>\n      <td>0</td>\n      <td>0</td>\n      <td>0</td>\n      <td>0</td>\n      <td>0</td>\n      <td>...</td>\n      <td>1</td>\n      <td>0</td>\n      <td>0</td>\n      <td>1</td>\n      <td>0</td>\n      <td>0</td>\n      <td>0</td>\n      <td>0</td>\n      <td>0</td>\n      <td>0</td>\n    </tr>\n    <tr>\n      <th>10</th>\n      <td>1</td>\n      <td>0.40625</td>\n      <td>0.000000</td>\n      <td>0</td>\n      <td>0</td>\n      <td>0</td>\n      <td>0</td>\n      <td>0</td>\n      <td>0</td>\n      <td>0</td>\n      <td>...</td>\n      <td>1</td>\n      <td>0</td>\n      <td>0</td>\n      <td>1</td>\n      <td>0</td>\n      <td>0</td>\n      <td>0</td>\n      <td>0</td>\n      <td>0</td>\n      <td>0</td>\n    </tr>\n    <tr>\n      <th>11</th>\n      <td>1</td>\n      <td>0.40625</td>\n      <td>0.000000</td>\n      <td>0</td>\n      <td>0</td>\n      <td>0</td>\n      <td>0</td>\n      <td>0</td>\n      <td>0</td>\n      <td>0</td>\n      <td>...</td>\n      <td>1</td>\n      <td>0</td>\n      <td>0</td>\n      <td>1</td>\n      <td>0</td>\n      <td>0</td>\n      <td>0</td>\n      <td>0</td>\n      <td>0</td>\n      <td>0</td>\n    </tr>\n    <tr>\n      <th>12</th>\n      <td>1</td>\n      <td>0.46875</td>\n      <td>0.000000</td>\n      <td>0</td>\n      <td>0</td>\n      <td>0</td>\n      <td>0</td>\n      <td>0</td>\n      <td>0</td>\n      <td>0</td>\n      <td>...</td>\n      <td>1</td>\n      <td>0</td>\n      <td>0</td>\n      <td>1</td>\n      <td>0</td>\n      <td>0</td>\n      <td>0</td>\n      <td>0</td>\n      <td>0</td>\n      <td>0</td>\n    </tr>\n    <tr>\n      <th>13</th>\n      <td>1</td>\n      <td>0.43750</td>\n      <td>0.000000</td>\n      <td>0</td>\n      <td>0</td>\n      <td>0</td>\n      <td>0</td>\n      <td>0</td>\n      <td>0</td>\n      <td>0</td>\n      <td>...</td>\n      <td>1</td>\n      <td>0</td>\n      <td>0</td>\n      <td>1</td>\n      <td>0</td>\n      <td>0</td>\n      <td>0</td>\n      <td>0</td>\n      <td>0</td>\n      <td>0</td>\n    </tr>\n    <tr>\n      <th>14</th>\n      <td>1</td>\n      <td>0.46875</td>\n      <td>0.000000</td>\n      <td>0</td>\n      <td>0</td>\n      <td>0</td>\n      <td>0</td>\n      <td>0</td>\n      <td>0</td>\n      <td>0</td>\n      <td>...</td>\n      <td>1</td>\n      <td>0</td>\n      <td>0</td>\n      <td>1</td>\n      <td>0</td>\n      <td>0</td>\n      <td>0</td>\n      <td>0</td>\n      <td>0</td>\n      <td>0</td>\n    </tr>\n    <tr>\n      <th>15</th>\n      <td>1</td>\n      <td>0.40625</td>\n      <td>0.000000</td>\n      <td>0</td>\n      <td>0</td>\n      <td>0</td>\n      <td>0</td>\n      <td>0</td>\n      <td>0</td>\n      <td>1</td>\n      <td>...</td>\n      <td>0</td>\n      <td>0</td>\n      <td>0</td>\n      <td>0</td>\n      <td>0</td>\n      <td>0</td>\n      <td>0</td>\n      <td>1</td>\n      <td>0</td>\n      <td>0</td>\n    </tr>\n    <tr>\n      <th>16</th>\n      <td>1</td>\n      <td>0.40625</td>\n      <td>0.000000</td>\n      <td>0</td>\n      <td>0</td>\n      <td>0</td>\n      <td>0</td>\n      <td>0</td>\n      <td>0</td>\n      <td>0</td>\n      <td>...</td>\n      <td>1</td>\n      <td>0</td>\n      <td>0</td>\n      <td>1</td>\n      <td>0</td>\n      <td>0</td>\n      <td>0</td>\n      <td>0</td>\n      <td>0</td>\n      <td>0</td>\n    </tr>\n    <tr>\n      <th>17</th>\n      <td>1</td>\n      <td>0.37500</td>\n      <td>0.000000</td>\n      <td>0</td>\n      <td>0</td>\n      <td>0</td>\n      <td>0</td>\n      <td>0</td>\n      <td>0</td>\n      <td>0</td>\n      <td>...</td>\n      <td>1</td>\n      <td>0</td>\n      <td>0</td>\n      <td>1</td>\n      <td>0</td>\n      <td>0</td>\n      <td>0</td>\n      <td>0</td>\n      <td>0</td>\n      <td>0</td>\n    </tr>\n    <tr>\n      <th>18</th>\n      <td>1</td>\n      <td>0.62500</td>\n      <td>0.222222</td>\n      <td>1</td>\n      <td>0</td>\n      <td>0</td>\n      <td>0</td>\n      <td>0</td>\n      <td>0</td>\n      <td>0</td>\n      <td>...</td>\n      <td>0</td>\n      <td>0</td>\n      <td>0</td>\n      <td>0</td>\n      <td>0</td>\n      <td>0</td>\n      <td>0</td>\n      <td>0</td>\n      <td>1</td>\n      <td>0</td>\n    </tr>\n    <tr>\n      <th>19</th>\n      <td>1</td>\n      <td>0.50000</td>\n      <td>0.370370</td>\n      <td>0</td>\n      <td>0</td>\n      <td>0</td>\n      <td>0</td>\n      <td>0</td>\n      <td>0</td>\n      <td>0</td>\n      <td>...</td>\n      <td>0</td>\n      <td>0</td>\n      <td>0</td>\n      <td>0</td>\n      <td>0</td>\n      <td>0</td>\n      <td>0</td>\n      <td>0</td>\n      <td>1</td>\n      <td>0</td>\n    </tr>\n    <tr>\n      <th>20</th>\n      <td>1</td>\n      <td>0.78125</td>\n      <td>0.000000</td>\n      <td>0</td>\n      <td>0</td>\n      <td>0</td>\n      <td>0</td>\n      <td>0</td>\n      <td>0</td>\n      <td>0</td>\n      <td>...</td>\n      <td>1</td>\n      <td>0</td>\n      <td>0</td>\n      <td>0</td>\n      <td>0</td>\n      <td>1</td>\n      <td>0</td>\n      <td>0</td>\n      <td>0</td>\n      <td>0</td>\n    </tr>\n  </tbody>\n</table>\n<p>20 rows × 23 columns</p>\n</div>"
     },
     "execution_count": 75,
     "metadata": {},
     "output_type": "execute_result"
    }
   ],
   "source": [
    "df.head(20)"
   ],
   "metadata": {
    "collapsed": false,
    "pycharm": {
     "name": "#%%\n"
    }
   }
  },
  {
   "cell_type": "code",
   "execution_count": 76,
   "outputs": [],
   "source": [
    "df.to_csv('data.csv', index=False)"
   ],
   "metadata": {
    "collapsed": false,
    "pycharm": {
     "name": "#%%\n"
    }
   }
  },
  {
   "cell_type": "code",
   "execution_count": null,
   "outputs": [],
   "source": [],
   "metadata": {
    "collapsed": false,
    "pycharm": {
     "name": "#%%\n"
    }
   }
  }
 ],
 "metadata": {
  "kernelspec": {
   "display_name": "Python 3",
   "language": "python",
   "name": "python3"
  },
  "language_info": {
   "codemirror_mode": {
    "name": "ipython",
    "version": 2
   },
   "file_extension": ".py",
   "mimetype": "text/x-python",
   "name": "python",
   "nbconvert_exporter": "python",
   "pygments_lexer": "ipython2",
   "version": "2.7.6"
  }
 },
 "nbformat": 4,
 "nbformat_minor": 0
}