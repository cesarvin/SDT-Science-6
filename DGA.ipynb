{
 "cells": [
  {
   "cell_type": "markdown",
   "metadata": {},
   "source": [
    "# Laboratorio 6: Prediccion de infeccion por malware\n",
    "### creación de modelo DGA - codigo obtenido de la clase"
   ]
  },
  {
   "cell_type": "code",
   "execution_count": 4,
   "metadata": {},
   "outputs": [],
   "source": [
    "import pandas as pd\n",
    "import numpy as np\n",
    "import caracteristicasDerivadas\n",
    "from caracteristicasDerivadas import H_entropy, proporcionVocalesConsonantes, posicionPrimerDigito\n",
    "#import  matplotlib.pyplot as plt\n",
    "import seaborn as sns\n",
    "import pandas_profiling as pp\n",
    "from pandas_profiling import ProfileReport\n",
    "import sklearn\n",
    "from sklearn import metrics, model_selection, tree"
   ]
  },
  {
   "cell_type": "code",
   "execution_count": 5,
   "metadata": {},
   "outputs": [],
   "source": [
    "import sklearn\n",
    "from sklearn import metrics, model_selection, tree"
   ]
  },
  {
   "cell_type": "code",
   "execution_count": 6,
   "metadata": {},
   "outputs": [],
   "source": [
    "#Carga de datos\n",
    "df = pd.read_csv('dga_data_small.csv')"
   ]
  },
  {
   "cell_type": "code",
   "execution_count": 7,
   "metadata": {},
   "outputs": [
    {
     "data": {
      "text/html": [
       "<div>\n",
       "<style scoped>\n",
       "    .dataframe tbody tr th:only-of-type {\n",
       "        vertical-align: middle;\n",
       "    }\n",
       "\n",
       "    .dataframe tbody tr th {\n",
       "        vertical-align: top;\n",
       "    }\n",
       "\n",
       "    .dataframe thead th {\n",
       "        text-align: right;\n",
       "    }\n",
       "</style>\n",
       "<table border=\"1\" class=\"dataframe\">\n",
       "  <thead>\n",
       "    <tr style=\"text-align: right;\">\n",
       "      <th></th>\n",
       "      <th>isDGA</th>\n",
       "      <th>domain</th>\n",
       "      <th>host</th>\n",
       "      <th>subclass</th>\n",
       "    </tr>\n",
       "  </thead>\n",
       "  <tbody>\n",
       "    <tr>\n",
       "      <th>0</th>\n",
       "      <td>dga</td>\n",
       "      <td>tyopcrkqgxcfm</td>\n",
       "      <td>tyopcrkqgxcfm.co.uk</td>\n",
       "      <td>cryptolocker</td>\n",
       "    </tr>\n",
       "    <tr>\n",
       "      <th>1</th>\n",
       "      <td>dga</td>\n",
       "      <td>72j5rn1l9mzleo6203v1ogenfl</td>\n",
       "      <td>72j5rn1l9mzleo6203v1ogenfl.org</td>\n",
       "      <td>gameoverdga</td>\n",
       "    </tr>\n",
       "    <tr>\n",
       "      <th>2</th>\n",
       "      <td>dga</td>\n",
       "      <td>thenrest</td>\n",
       "      <td>thenrest.net</td>\n",
       "      <td>nivdort</td>\n",
       "    </tr>\n",
       "    <tr>\n",
       "      <th>3</th>\n",
       "      <td>dga</td>\n",
       "      <td>15ihbm71utcnfa8dk1mmgoobl9</td>\n",
       "      <td>15ihbm71utcnfa8dk1mmgoobl9.org</td>\n",
       "      <td>gameoverdga</td>\n",
       "    </tr>\n",
       "    <tr>\n",
       "      <th>4</th>\n",
       "      <td>dga</td>\n",
       "      <td>x1d6ou7e7kofk60ayhq74x7e</td>\n",
       "      <td>x1d6ou7e7kofk60ayhq74x7e.net</td>\n",
       "      <td>gameoverdga</td>\n",
       "    </tr>\n",
       "  </tbody>\n",
       "</table>\n",
       "</div>"
      ],
      "text/plain": [
       "  isDGA                      domain                            host  \\\n",
       "0   dga               tyopcrkqgxcfm             tyopcrkqgxcfm.co.uk   \n",
       "1   dga  72j5rn1l9mzleo6203v1ogenfl  72j5rn1l9mzleo6203v1ogenfl.org   \n",
       "2   dga                    thenrest                    thenrest.net   \n",
       "3   dga  15ihbm71utcnfa8dk1mmgoobl9  15ihbm71utcnfa8dk1mmgoobl9.org   \n",
       "4   dga    x1d6ou7e7kofk60ayhq74x7e    x1d6ou7e7kofk60ayhq74x7e.net   \n",
       "\n",
       "       subclass  \n",
       "0  cryptolocker  \n",
       "1   gameoverdga  \n",
       "2       nivdort  \n",
       "3   gameoverdga  \n",
       "4   gameoverdga  "
      ]
     },
     "execution_count": 7,
     "metadata": {},
     "output_type": "execute_result"
    }
   ],
   "source": [
    "df.head(5)"
   ]
  },
  {
   "cell_type": "code",
   "execution_count": 8,
   "metadata": {},
   "outputs": [],
   "source": [
    "#Preprocesamiento\n",
    "\n",
    "#Eliminacion de caracteristicas irrelevante o repetidas\n",
    "df.drop(['host','subclass'], axis=1, inplace=True)\n",
    "\n",
    "#Codificacion de variable objetivo\n",
    "df['isDGA'] = df['isDGA'].replace(to_replace='dga', value=1)\n",
    "df['isDGA'] = df['isDGA'].replace(to_replace='legit', value=0)\n",
    "\n"
   ]
  },
  {
   "cell_type": "code",
   "execution_count": 9,
   "metadata": {},
   "outputs": [],
   "source": [
    "#Derivar caracteristicas\n",
    "# 1. Longitud\n",
    "# 2. Cantidad de digitos\n",
    "# 3. Calculo de entropia (Shannon), es decir la cantidad de \"informacion\" que se puede obtener de una variable\n",
    "# 4. Posicion del primer digito en la cadena\n",
    "# 5. Proporcion de vocales - consonantes\n",
    "\n",
    "df['longitud'] = df['domain'].str.len()\n",
    "df['digitos'] = df['domain'].str.count('[0-9]')\n",
    "df['entropia'] = df['domain'].apply(H_entropy)\n",
    "df['proporcionVocalesConsonantes'] = df['domain'].apply(proporcionVocalesConsonantes)\n",
    "df['posicionPrimerDigito'] = df['domain'].apply(posicionPrimerDigito)\n",
    "\n",
    "df.drop(['domain'], axis=1, inplace=True)\n"
   ]
  },
  {
   "cell_type": "code",
   "execution_count": 10,
   "metadata": {},
   "outputs": [
    {
     "data": {
      "text/html": [
       "<div>\n",
       "<style scoped>\n",
       "    .dataframe tbody tr th:only-of-type {\n",
       "        vertical-align: middle;\n",
       "    }\n",
       "\n",
       "    .dataframe tbody tr th {\n",
       "        vertical-align: top;\n",
       "    }\n",
       "\n",
       "    .dataframe thead th {\n",
       "        text-align: right;\n",
       "    }\n",
       "</style>\n",
       "<table border=\"1\" class=\"dataframe\">\n",
       "  <thead>\n",
       "    <tr style=\"text-align: right;\">\n",
       "      <th></th>\n",
       "      <th>isDGA</th>\n",
       "      <th>longitud</th>\n",
       "      <th>digitos</th>\n",
       "      <th>entropia</th>\n",
       "      <th>proporcionVocalesConsonantes</th>\n",
       "      <th>posicionPrimerDigito</th>\n",
       "    </tr>\n",
       "  </thead>\n",
       "  <tbody>\n",
       "    <tr>\n",
       "      <th>0</th>\n",
       "      <td>1</td>\n",
       "      <td>13</td>\n",
       "      <td>0</td>\n",
       "      <td>3.546594</td>\n",
       "      <td>0.083333</td>\n",
       "      <td>0</td>\n",
       "    </tr>\n",
       "    <tr>\n",
       "      <th>1</th>\n",
       "      <td>1</td>\n",
       "      <td>26</td>\n",
       "      <td>10</td>\n",
       "      <td>4.132944</td>\n",
       "      <td>0.333333</td>\n",
       "      <td>1</td>\n",
       "    </tr>\n",
       "    <tr>\n",
       "      <th>2</th>\n",
       "      <td>1</td>\n",
       "      <td>8</td>\n",
       "      <td>0</td>\n",
       "      <td>2.500000</td>\n",
       "      <td>0.333333</td>\n",
       "      <td>0</td>\n",
       "    </tr>\n",
       "    <tr>\n",
       "      <th>3</th>\n",
       "      <td>1</td>\n",
       "      <td>26</td>\n",
       "      <td>7</td>\n",
       "      <td>4.180833</td>\n",
       "      <td>0.357143</td>\n",
       "      <td>1</td>\n",
       "    </tr>\n",
       "    <tr>\n",
       "      <th>4</th>\n",
       "      <td>1</td>\n",
       "      <td>24</td>\n",
       "      <td>9</td>\n",
       "      <td>3.834963</td>\n",
       "      <td>0.666667</td>\n",
       "      <td>2</td>\n",
       "    </tr>\n",
       "  </tbody>\n",
       "</table>\n",
       "</div>"
      ],
      "text/plain": [
       "   isDGA  longitud  digitos  entropia  proporcionVocalesConsonantes  \\\n",
       "0      1        13        0  3.546594                      0.083333   \n",
       "1      1        26       10  4.132944                      0.333333   \n",
       "2      1         8        0  2.500000                      0.333333   \n",
       "3      1        26        7  4.180833                      0.357143   \n",
       "4      1        24        9  3.834963                      0.666667   \n",
       "\n",
       "   posicionPrimerDigito  \n",
       "0                     0  \n",
       "1                     1  \n",
       "2                     0  \n",
       "3                     1  \n",
       "4                     2  "
      ]
     },
     "execution_count": 10,
     "metadata": {},
     "output_type": "execute_result"
    }
   ],
   "source": [
    "df.head()"
   ]
  },
  {
   "cell_type": "code",
   "execution_count": 11,
   "metadata": {},
   "outputs": [],
   "source": [
    "df_final = df"
   ]
  },
  {
   "cell_type": "code",
   "execution_count": 12,
   "metadata": {},
   "outputs": [],
   "source": [
    "target = df_final['isDGA']\n",
    "feature_matrix = df_final.drop(['isDGA'], axis=1)"
   ]
  },
  {
   "cell_type": "code",
   "execution_count": 13,
   "metadata": {},
   "outputs": [
    {
     "name": "stdout",
     "output_type": "stream",
     "text": [
      "Final features: Index(['longitud', 'digitos', 'entropia', 'proporcionVocalesConsonantes',\n",
      "       'posicionPrimerDigito'],\n",
      "      dtype='object')\n"
     ]
    }
   ],
   "source": [
    "print('Final features:', feature_matrix.columns)"
   ]
  },
  {
   "cell_type": "code",
   "execution_count": 14,
   "metadata": {},
   "outputs": [
    {
     "data": {
      "text/html": [
       "<div>\n",
       "<style scoped>\n",
       "    .dataframe tbody tr th:only-of-type {\n",
       "        vertical-align: middle;\n",
       "    }\n",
       "\n",
       "    .dataframe tbody tr th {\n",
       "        vertical-align: top;\n",
       "    }\n",
       "\n",
       "    .dataframe thead th {\n",
       "        text-align: right;\n",
       "    }\n",
       "</style>\n",
       "<table border=\"1\" class=\"dataframe\">\n",
       "  <thead>\n",
       "    <tr style=\"text-align: right;\">\n",
       "      <th></th>\n",
       "      <th>longitud</th>\n",
       "      <th>digitos</th>\n",
       "      <th>entropia</th>\n",
       "      <th>proporcionVocalesConsonantes</th>\n",
       "      <th>posicionPrimerDigito</th>\n",
       "    </tr>\n",
       "  </thead>\n",
       "  <tbody>\n",
       "    <tr>\n",
       "      <th>0</th>\n",
       "      <td>13</td>\n",
       "      <td>0</td>\n",
       "      <td>3.546594</td>\n",
       "      <td>0.083333</td>\n",
       "      <td>0</td>\n",
       "    </tr>\n",
       "    <tr>\n",
       "      <th>1</th>\n",
       "      <td>26</td>\n",
       "      <td>10</td>\n",
       "      <td>4.132944</td>\n",
       "      <td>0.333333</td>\n",
       "      <td>1</td>\n",
       "    </tr>\n",
       "    <tr>\n",
       "      <th>2</th>\n",
       "      <td>8</td>\n",
       "      <td>0</td>\n",
       "      <td>2.500000</td>\n",
       "      <td>0.333333</td>\n",
       "      <td>0</td>\n",
       "    </tr>\n",
       "    <tr>\n",
       "      <th>3</th>\n",
       "      <td>26</td>\n",
       "      <td>7</td>\n",
       "      <td>4.180833</td>\n",
       "      <td>0.357143</td>\n",
       "      <td>1</td>\n",
       "    </tr>\n",
       "    <tr>\n",
       "      <th>4</th>\n",
       "      <td>24</td>\n",
       "      <td>9</td>\n",
       "      <td>3.834963</td>\n",
       "      <td>0.666667</td>\n",
       "      <td>2</td>\n",
       "    </tr>\n",
       "  </tbody>\n",
       "</table>\n",
       "</div>"
      ],
      "text/plain": [
       "   longitud  digitos  entropia  proporcionVocalesConsonantes  \\\n",
       "0        13        0  3.546594                      0.083333   \n",
       "1        26       10  4.132944                      0.333333   \n",
       "2         8        0  2.500000                      0.333333   \n",
       "3        26        7  4.180833                      0.357143   \n",
       "4        24        9  3.834963                      0.666667   \n",
       "\n",
       "   posicionPrimerDigito  \n",
       "0                     0  \n",
       "1                     1  \n",
       "2                     0  \n",
       "3                     1  \n",
       "4                     2  "
      ]
     },
     "execution_count": 14,
     "metadata": {},
     "output_type": "execute_result"
    }
   ],
   "source": [
    "feature_matrix.head()"
   ]
  },
  {
   "cell_type": "code",
   "execution_count": 15,
   "metadata": {},
   "outputs": [],
   "source": [
    "feature_matrix_train, feature_matrix_test, target_train, target_test = model_selection.train_test_split(feature_matrix, target, test_size=0.25, random_state=31)"
   ]
  },
  {
   "cell_type": "code",
   "execution_count": 16,
   "metadata": {},
   "outputs": [],
   "source": [
    "clf = tree.DecisionTreeClassifier()\n"
   ]
  },
  {
   "cell_type": "code",
   "execution_count": 17,
   "metadata": {},
   "outputs": [],
   "source": [
    "clf = clf.fit(feature_matrix_train, target_train)"
   ]
  },
  {
   "cell_type": "code",
   "execution_count": 18,
   "metadata": {},
   "outputs": [
    {
     "data": {
      "text/plain": [
       "longitud                        1500\n",
       "digitos                         1500\n",
       "entropia                        1500\n",
       "proporcionVocalesConsonantes    1500\n",
       "posicionPrimerDigito            1500\n",
       "dtype: int64"
      ]
     },
     "execution_count": 18,
     "metadata": {},
     "output_type": "execute_result"
    }
   ],
   "source": [
    "feature_matrix_train.count()"
   ]
  },
  {
   "cell_type": "code",
   "execution_count": 19,
   "metadata": {},
   "outputs": [
    {
     "data": {
      "text/plain": [
       "longitud                        500\n",
       "digitos                         500\n",
       "entropia                        500\n",
       "proporcionVocalesConsonantes    500\n",
       "posicionPrimerDigito            500\n",
       "dtype: int64"
      ]
     },
     "execution_count": 19,
     "metadata": {},
     "output_type": "execute_result"
    }
   ],
   "source": [
    "feature_matrix_test.count()"
   ]
  },
  {
   "cell_type": "code",
   "execution_count": 20,
   "metadata": {},
   "outputs": [],
   "source": [
    "target_pred = clf.predict(feature_matrix_test)"
   ]
  },
  {
   "cell_type": "code",
   "execution_count": 21,
   "metadata": {},
   "outputs": [
    {
     "name": "stdout",
     "output_type": "stream",
     "text": [
      "0.846\n"
     ]
    }
   ],
   "source": [
    "print(metrics.accuracy_score(target_test, target_pred))\n"
   ]
  },
  {
   "cell_type": "code",
   "execution_count": 22,
   "metadata": {},
   "outputs": [
    {
     "name": "stdout",
     "output_type": "stream",
     "text": [
      "Matriz de confusion /n [[235  23]\n",
      " [ 54 188]]\n"
     ]
    }
   ],
   "source": [
    "print('Matriz de confusion /n',metrics.confusion_matrix(target_test, target_pred))\n"
   ]
  },
  {
   "cell_type": "code",
   "execution_count": 23,
   "metadata": {},
   "outputs": [
    {
     "name": "stdout",
     "output_type": "stream",
     "text": [
      "              precision    recall  f1-score   support\n",
      "\n",
      "       legit       0.81      0.91      0.86       258\n",
      "         dga       0.89      0.78      0.83       242\n",
      "\n",
      "    accuracy                           0.85       500\n",
      "   macro avg       0.85      0.84      0.84       500\n",
      "weighted avg       0.85      0.85      0.85       500\n",
      "\n"
     ]
    }
   ],
   "source": [
    "print(metrics.classification_report(target_test, target_pred, target_names=['legit', 'dga']))\n"
   ]
  },
  {
   "cell_type": "code",
   "execution_count": 29,
   "metadata": {},
   "outputs": [],
   "source": [
    "#from sklearn.external import joblib\n",
    "import six\n",
    "import sys\n",
    "sys.modules['sklearn.externals.six'] = six\n",
    "import joblib\n",
    "sys.modules['sklearn.externals.joblib'] = joblib\n"
   ]
  },
  {
   "cell_type": "code",
   "execution_count": 30,
   "metadata": {},
   "outputs": [
    {
     "data": {
      "text/plain": [
       "['Modelo_DGA_entrenado.pkl']"
      ]
     },
     "execution_count": 30,
     "metadata": {},
     "output_type": "execute_result"
    }
   ],
   "source": [
    "joblib.dump(clf, 'Modelo_DGA_entrenado.pkl')"
   ]
  }
 ],
 "metadata": {
  "interpreter": {
   "hash": "916dbcbb3f70747c44a77c7bcd40155683ae19c65e1c03b4aa3499c5328201f1"
  },
  "kernelspec": {
   "display_name": "Python 3.10.4 64-bit",
   "language": "python",
   "name": "python3"
  },
  "language_info": {
   "codemirror_mode": {
    "name": "ipython",
    "version": 3
   },
   "file_extension": ".py",
   "mimetype": "text/x-python",
   "name": "python",
   "nbconvert_exporter": "python",
   "pygments_lexer": "ipython3",
   "version": "3.10.4"
  },
  "orig_nbformat": 4
 },
 "nbformat": 4,
 "nbformat_minor": 2
}
